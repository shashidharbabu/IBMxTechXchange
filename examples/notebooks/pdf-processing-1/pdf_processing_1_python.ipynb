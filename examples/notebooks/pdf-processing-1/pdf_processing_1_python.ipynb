{
  "cells": [
    {
      "cell_type": "markdown",
      "id": "841e533d-ebb3-406d-9da7-b19e2c5f5866",
      "metadata": {
        "id": "841e533d-ebb3-406d-9da7-b19e2c5f5866"
      },
      "source": [
        "# Processing PDFs using Data Prep Kit\n",
        "\n",
        "This notebook will introduce DPK and showcase some of it's capabilities.\n",
        "\n",
        "Here is the workflow:\n",
        "\n",
        "- pdf2parquet: Extract text from PDF documents\n",
        "- docid: compute hashes\n",
        "- exact dedupe : filter out identical documents\n",
        "- fuzzy dedupe : filter out 'near duplicates'\n",
        "- document quality: scoring documents for quality\n",
        "\n",
        "![](https://raw.githubusercontent.com/sujee/data-prep-kit/process-pdf-1/examples/notebooks/pdf-processing-1/images/data-prep-kit-3-workflow.png)\n"
      ]
    },
    {
      "cell_type": "markdown",
      "id": "b15976e3",
      "metadata": {
        "id": "b15976e3"
      },
      "source": [
        "## How to run this notebook\n",
        "\n",
        "Two options:\n",
        "\n",
        "- **Option 1 - Google Colab:** easiest option.  no setup required.  Click this link to open this on google colab.  [![Open In Colab](https://colab.research.google.com/assets/colab-badge.svg)](https://colab.research.google.com/github/sujee/data-prep-kit/blob/process-pdf-1/examples/notebooks/pdf-processing-1/pdf_processing_1_python.ipynb)\n",
        "- **Option 2 - Local python dev environment:**  Setup using this [guide](../../../README.md#-getting-started)\n",
        "\n",
        "The notebook will work as in both environments"
      ]
    },
    {
      "cell_type": "markdown",
      "id": "39a0ab6e",
      "metadata": {
        "id": "39a0ab6e"
      },
      "source": [
        "## Step-1: Figure out Runtime Environment\n",
        "\n",
        "### 1.1 - Determine runtime\n",
        "\n",
        "Determine if we are running on Google colab or local python environment"
      ]
    },
    {
      "cell_type": "code",
      "execution_count": 1,
      "id": "1fe354b7",
      "metadata": {
        "colab": {
          "base_uri": "https://localhost:8080/"
        },
        "id": "1fe354b7",
        "outputId": "50505445-44f4-4865-aee0-7f1701df98c5"
      },
      "outputs": [
        {
          "output_type": "stream",
          "name": "stdout",
          "text": [
            "Running in Colab\n"
          ]
        }
      ],
      "source": [
        "import os\n",
        "\n",
        "if os.getenv(\"COLAB_RELEASE_TAG\"):\n",
        "   print(\"Running in Colab\")\n",
        "   RUNNING_IN_COLAB = True\n",
        "else:\n",
        "   print(\"NOT in Colab\")\n",
        "   RUNNING_IN_COLAB = False"
      ]
    },
    {
      "cell_type": "markdown",
      "id": "a5dc2b68",
      "metadata": {
        "id": "a5dc2b68"
      },
      "source": [
        "### 1.2 - Install dependencies if running on Google Colab"
      ]
    },
    {
      "cell_type": "code",
      "execution_count": null,
      "id": "1fcec577",
      "metadata": {
        "id": "1fcec577"
      },
      "outputs": [],
      "source": [
        "%%capture\n",
        "\n",
        "if RUNNING_IN_COLAB:\n",
        "    ! pip install  --default-timeout=100  \\\n",
        "        data-prep-toolkit-transforms[all]==1.0.0 \\\n",
        "        humanfriendly"
      ]
    },
    {
      "cell_type": "code",
      "source": [
        "!pip install humanfriendly"
      ],
      "metadata": {
        "id": "0SPJoJkciFL5",
        "outputId": "514f95fd-b493-4e0d-9325-518d35d08a2b",
        "colab": {
          "base_uri": "https://localhost:8080/"
        }
      },
      "id": "0SPJoJkciFL5",
      "execution_count": 6,
      "outputs": [
        {
          "output_type": "stream",
          "name": "stdout",
          "text": [
            "Collecting humanfriendly\n",
            "  Using cached humanfriendly-10.0-py2.py3-none-any.whl.metadata (9.2 kB)\n",
            "Using cached humanfriendly-10.0-py2.py3-none-any.whl (86 kB)\n",
            "Installing collected packages: humanfriendly\n",
            "Successfully installed humanfriendly-10.0\n"
          ]
        }
      ]
    },
    {
      "cell_type": "markdown",
      "id": "243322b8",
      "metadata": {
        "id": "243322b8"
      },
      "source": [
        "### 1.3 - Restart Runtime\n",
        "\n",
        "After installing dependencies, be sure <font color=\"red\">restart runtime</font>, so libraries will be loaded\n",
        "\n",
        "You do this by going to **`Runtime --> Restart Session`**\n",
        "\n",
        "Then you can continue to the next step (no need to re-run the notebook)"
      ]
    },
    {
      "cell_type": "markdown",
      "id": "e8b10be1",
      "metadata": {
        "id": "e8b10be1"
      },
      "source": [
        "## Step-2: Configuration  & Utils"
      ]
    },
    {
      "cell_type": "markdown",
      "id": "356c66f7",
      "metadata": {
        "id": "356c66f7"
      },
      "source": [
        "### 2.1 - Basic Config"
      ]
    },
    {
      "cell_type": "code",
      "execution_count": 3,
      "id": "e4YMZrBuFycl",
      "metadata": {
        "colab": {
          "base_uri": "https://localhost:8080/"
        },
        "id": "e4YMZrBuFycl",
        "outputId": "225f8a21-5045-4068-fe2e-0b155b65bbf8"
      },
      "outputs": [
        {
          "output_type": "stream",
          "name": "stdout",
          "text": [
            "Running in Colab\n"
          ]
        }
      ],
      "source": [
        "import os\n",
        "\n",
        "if os.getenv(\"COLAB_RELEASE_TAG\"):\n",
        "   print(\"Running in Colab\")\n",
        "   RUNNING_IN_COLAB = True\n",
        "else:\n",
        "   print(\"NOT in Colab\")\n",
        "   RUNNING_IN_COLAB = False"
      ]
    },
    {
      "cell_type": "markdown",
      "id": "72510ae6-48b0-4b88-9e13-a623281c3a63",
      "metadata": {
        "id": "72510ae6-48b0-4b88-9e13-a623281c3a63"
      },
      "source": [
        "### 2.2 - Setup input/outpur directories"
      ]
    },
    {
      "cell_type": "code",
      "execution_count": 4,
      "id": "60ac8bee-0960-4309-b225-d7a211b14262",
      "metadata": {
        "colab": {
          "base_uri": "https://localhost:8080/"
        },
        "id": "60ac8bee-0960-4309-b225-d7a211b14262",
        "outputId": "ae68af2d-afd7-498a-a6a3-34cd457cf7e1"
      },
      "outputs": [
        {
          "output_type": "stream",
          "name": "stdout",
          "text": [
            "✅ Cleared output directory\n"
          ]
        }
      ],
      "source": [
        "import os, sys\n",
        "import shutil\n",
        "\n",
        "input_dir = \"input\"\n",
        "shutil.os.makedirs(input_dir, exist_ok=True)\n",
        "output_dir = \"output\"\n",
        "\n",
        "output_text_dir = os.path.join (output_dir, '01_text_out')\n",
        "output_docid_dir = os.path.join (output_dir, '02_docid_out')\n",
        "output_exact_dedupe_dir = os.path.join (output_dir, '03_exact_dedupe_out')\n",
        "output_fuzzy_dedupe_dir = os.path.join (output_dir, '04_fuzzy_dedupe_out')\n",
        "output_doc_quality_dir = os.path.join (output_dir, '05_doc_quality_out')\n",
        "output_final_dir = os.path.join (output_dir, 'output_final')\n",
        "\n",
        "## clear output folder\n",
        "shutil.rmtree(output_dir, ignore_errors=True)\n",
        "shutil.os.makedirs(output_dir, exist_ok=True)\n",
        "print (\"✅ Cleared output directory\")"
      ]
    },
    {
      "cell_type": "markdown",
      "id": "14b2f34c",
      "metadata": {
        "id": "14b2f34c"
      },
      "source": [
        "### 2.3 - Handy Utils"
      ]
    },
    {
      "cell_type": "code",
      "execution_count": 7,
      "id": "ba47a370",
      "metadata": {
        "id": "ba47a370"
      },
      "outputs": [],
      "source": [
        "import os\n",
        "import requests\n",
        "from humanfriendly import format_size\n",
        "import pandas as pd\n",
        "import glob\n",
        "\n",
        "## Reads parquet files in a folder into a pandas dataframe\n",
        "def read_parquet_files_as_df (parquet_dir):\n",
        "    parquet_files = glob.glob(f'{parquet_dir}/*.parquet')\n",
        "    # read each parquet file into a DataFrame and store in a list\n",
        "    dfs = [pd.read_parquet (f) for f in parquet_files]\n",
        "    dfs = [df for df in dfs if not df.empty]  # filter out empty dataframes\n",
        "    # Concatenate all DataFrames into a single DataFrame\n",
        "    if len(dfs) > 0:\n",
        "        data_df = pd.concat(dfs, ignore_index=True)\n",
        "        return data_df\n",
        "    else:\n",
        "        return pd.DataFrame() # return empty df\n",
        "# ------------\n",
        "\n",
        "\n",
        "def download_file(url, local_file, chunk_size=1024*1024):\n",
        "    \"\"\"\n",
        "    Downloads a remote URL to a local file.\n",
        "\n",
        "    Args:\n",
        "        url (str): The remote URL.\n",
        "        local_filename (str): The name of the local file to save the downloaded content.\n",
        "        chunk_size (int): The size in bytes of each chunk. Defaults to 1024.\n",
        "\n",
        "    Returns:\n",
        "        None\n",
        "\n",
        "    Example usage:\n",
        "        download_file('http://example.com/file.txt', 'file.txt', chunk_size=1024*1024)  # Download in chunks of 1MB\n",
        "    \"\"\"\n",
        "    # Check if the local file already exists\n",
        "    if os.path.exists(local_file):\n",
        "        file_size = format_size(os.path.getsize(local_file))\n",
        "        print(f\"Local file '{local_file}' ({file_size}) already exists. Skipping download.\")\n",
        "        return\n",
        "\n",
        "    # Create the directory if it doesn't exist\n",
        "    os.makedirs(os.path.dirname(local_file), exist_ok=True)\n",
        "\n",
        "    # Stream the file download\n",
        "    with requests.get(url, stream=True) as r:\n",
        "        r.raise_for_status()\n",
        "        with open(local_file, 'wb') as f:\n",
        "            for chunk in r.iter_content(chunk_size=chunk_size):\n",
        "                if chunk: # filter out keep-alive new chunks\n",
        "                    f.write(chunk)\n",
        "        print()\n",
        "        file_size = format_size(os.path.getsize(local_file))\n",
        "        print(f\"{local_file} ({file_size}) downloaded successfully.\")\n",
        "## --- end: download_file ------\n",
        "\n"
      ]
    },
    {
      "cell_type": "markdown",
      "id": "dc1972c3",
      "metadata": {
        "id": "dc1972c3"
      },
      "source": [
        "## Step-3: Inspect the Data\n",
        "\n",
        "We will use simple PDFs.  The files are [here](https://github.com/IBM/data-prep-kit/tree/dev/examples/notebooks/pdf-processing-1/input/)\n",
        "\n",
        "- [earth.pdf](https://raw.githubusercontent.com/sujee/data-prep-kit/process-pdf-1/examples/notebooks/pdf-processing-1/input/earth.pdf) and exact duplicate [earth-copy.pdf](https://raw.githubusercontent.com/sujee/data-prep-kit/process-pdf-1/examples/notebooks/pdf-processing-1/input/earth-copy.pdf)\n",
        "- [earth2.pdf](https://raw.githubusercontent.com/sujee/data-prep-kit/process-pdf-1/examples/notebooks/pdf-processing-1/input/earth2.pdf) almost similar to earth.pdf (ONE word difference!)\n",
        "- [mars.pdf](https://raw.githubusercontent.com/sujee/data-prep-kit/process-pdf-1/examples/notebooks/pdf-processing-1/input/mars.pdf)\n",
        "- [spam.pdf](https://raw.githubusercontent.com/sujee/data-prep-kit/process-pdf-1/examples/notebooks/pdf-processing-1/input/spam.pdf) - contains spammy contents\n",
        "- [lorem-ipsum.pdf](https://raw.githubusercontent.com/sujee/data-prep-kit/process-pdf-1/examples/notebooks/pdf-processing-1/input/lorem-ipsum.pdf) - contains 'lorem ipsum' placeholder\n"
      ]
    },
    {
      "cell_type": "code",
      "execution_count": 7,
      "id": "eG_5od2HjQWG",
      "metadata": {
        "id": "eG_5od2HjQWG"
      },
      "outputs": [],
      "source": []
    },
    {
      "cell_type": "markdown",
      "id": "7113b16c",
      "metadata": {
        "id": "7113b16c"
      },
      "source": [
        "### 3.1 -Download Data"
      ]
    },
    {
      "cell_type": "code",
      "execution_count": 8,
      "id": "23db1064",
      "metadata": {
        "colab": {
          "base_uri": "https://localhost:8080/"
        },
        "id": "23db1064",
        "outputId": "fbf03d0e-3cc6-4eeb-ac14-18d02dc93645"
      },
      "outputs": [
        {
          "output_type": "stream",
          "name": "stdout",
          "text": [
            "\n",
            "input/earth.pdf (58.53 KB) downloaded successfully.\n",
            "\n",
            "input/earth-copy.pdf (58.53 KB) downloaded successfully.\n",
            "\n",
            "input/earth2.pdf (58.53 KB) downloaded successfully.\n",
            "\n",
            "input/mars.pdf (57.87 KB) downloaded successfully.\n",
            "\n",
            "input/spam.pdf (24.87 KB) downloaded successfully.\n",
            "\n",
            "input/lorem-ipsum.pdf (25.72 KB) downloaded successfully.\n"
          ]
        }
      ],
      "source": [
        "\n",
        "download_file ('https://raw.githubusercontent.com/sujee/data-prep-kit/process-pdf-1/examples/notebooks/pdf-processing-1/input/earth.pdf', os.path.join(input_dir, 'earth.pdf'))\n",
        "\n",
        "download_file ('https://raw.githubusercontent.com/sujee/data-prep-kit/process-pdf-1/examples/notebooks/pdf-processing-1/input/earth-copy.pdf', os.path.join(input_dir, 'earth-copy.pdf'))\n",
        "\n",
        "download_file ('https://raw.githubusercontent.com/sujee/data-prep-kit/process-pdf-1/examples/notebooks/pdf-processing-1/input/earth2.pdf', os.path.join(input_dir, 'earth2.pdf'))\n",
        "\n",
        "download_file ('https://raw.githubusercontent.com/sujee/data-prep-kit/process-pdf-1/examples/notebooks/pdf-processing-1/input/mars.pdf', os.path.join(input_dir, 'mars.pdf'))\n",
        "\n",
        "download_file ('https://raw.githubusercontent.com/sujee/data-prep-kit/process-pdf-1/examples/notebooks/pdf-processing-1/input/spam.pdf', os.path.join(input_dir, 'spam.pdf'))\n",
        "\n",
        "download_file ('https://raw.githubusercontent.com/sujee/data-prep-kit/process-pdf-1/examples/notebooks/pdf-processing-1/input/lorem-ipsum.pdf', os.path.join(input_dir, 'lorem-ipsum.pdf'))"
      ]
    },
    {
      "cell_type": "markdown",
      "id": "2449e5c7-078c-4ad6-a2f6-21d39d4da3fb",
      "metadata": {
        "id": "2449e5c7-078c-4ad6-a2f6-21d39d4da3fb"
      },
      "source": [
        "## Step-4: Extract Data from PDF (pdf2parquet)\n",
        "\n",
        "This step we will read PDF files and extract the text data.\n",
        "\n",
        "[Pdf2Parquet documentation](https://github.com/IBM/data-prep-kit/blob/dev/transforms/language/pdf2parquet/README.md)\n",
        "\n",
        "We use the [Docling package](https://github.com/DS4SD/docling).\n"
      ]
    },
    {
      "cell_type": "markdown",
      "id": "9bb15f02-ab5c-4525-a536-cfa1fd2ba70b",
      "metadata": {
        "id": "9bb15f02-ab5c-4525-a536-cfa1fd2ba70b"
      },
      "source": [
        "### 4.1 - Execute"
      ]
    },
    {
      "cell_type": "code",
      "execution_count": 9,
      "id": "b0cd8ebd-bf71-42d6-a397-8df0c7b66a26",
      "metadata": {
        "colab": {
          "base_uri": "https://localhost:8080/",
          "height": 124
        },
        "id": "b0cd8ebd-bf71-42d6-a397-8df0c7b66a26",
        "outputId": "9ccb98d7-d9b2-4310-a9b3-9c87aef9c8b6"
      },
      "outputs": [
        {
          "output_type": "error",
          "ename": "ModuleNotFoundError",
          "evalue": "No module named 'dpk_pdf2parquet'",
          "traceback": [
            "\u001b[0;31m---------------------------------------------------------------------------\u001b[0m",
            "\u001b[0;31mModuleNotFoundError\u001b[0m                       Traceback (most recent call last)",
            "\u001b[0;32m<timed exec>\u001b[0m in \u001b[0;36m<module>\u001b[0;34m\u001b[0m\n",
            "\u001b[0;31mModuleNotFoundError\u001b[0m: No module named 'dpk_pdf2parquet'"
          ]
        }
      ],
      "source": [
        "%%time\n",
        "\n",
        "from dpk_pdf2parquet.transform_python import Pdf2Parquet\n",
        "from dpk_pdf2parquet.transform import pdf2parquet_contents_types\n",
        "\n",
        "STAGE = 1\n",
        "print (f\"🏃🏼 STAGE-{STAGE}: Processing input='{input_dir}' --> output='{output_text_dir}'\\n\", flush=True)\n",
        "\n",
        "result = Pdf2Parquet(input_folder= input_dir,\n",
        "                    output_folder= output_text_dir,\n",
        "                    data_files_to_use=['.pdf'],\n",
        "                    pdf2parquet_contents_type=pdf2parquet_contents_types.MARKDOWN,   # markdown\n",
        "                    ).transform()\n",
        "\n",
        "if result == 0:\n",
        "    print (f\"✅ Stage:{STAGE} completed successfully\")\n",
        "else:\n",
        "    raise Exception (f\"❌ Stage:{STAGE}  failed\")"
      ]
    },
    {
      "cell_type": "markdown",
      "id": "5ca790e0",
      "metadata": {
        "id": "5ca790e0"
      },
      "source": [
        "### 4.2 - Inspect Generated output\n",
        "\n",
        "Here we should see one entry per input file processed."
      ]
    },
    {
      "cell_type": "code",
      "execution_count": null,
      "id": "fe59563d",
      "metadata": {
        "colab": {
          "base_uri": "https://localhost:8080/",
          "height": 557
        },
        "id": "fe59563d",
        "outputId": "81b70c9f-cc39-4f78-f29f-f81d4fcf19ae"
      },
      "outputs": [
        {
          "name": "stdout",
          "output_type": "stream",
          "text": [
            "Displaying contents of :  output/01_text_out\n"
          ]
        },
        {
          "data": {
            "text/html": [
              "<div>\n",
              "<style scoped>\n",
              "    .dataframe tbody tr th:only-of-type {\n",
              "        vertical-align: middle;\n",
              "    }\n",
              "\n",
              "    .dataframe tbody tr th {\n",
              "        vertical-align: top;\n",
              "    }\n",
              "\n",
              "    .dataframe thead th {\n",
              "        text-align: right;\n",
              "    }\n",
              "</style>\n",
              "<table border=\"1\" class=\"dataframe\">\n",
              "  <thead>\n",
              "    <tr style=\"text-align: right;\">\n",
              "      <th></th>\n",
              "      <th>filename</th>\n",
              "      <th>contents</th>\n",
              "      <th>num_pages</th>\n",
              "      <th>num_tables</th>\n",
              "      <th>num_doc_elements</th>\n",
              "      <th>document_id</th>\n",
              "      <th>document_hash</th>\n",
              "      <th>ext</th>\n",
              "      <th>hash</th>\n",
              "      <th>size</th>\n",
              "      <th>date_acquired</th>\n",
              "      <th>pdf_convert_time</th>\n",
              "      <th>source_filename</th>\n",
              "    </tr>\n",
              "  </thead>\n",
              "  <tbody>\n",
              "    <tr>\n",
              "      <th>0</th>\n",
              "      <td>lorem-ipsum.pdf</td>\n",
              "      <td>Lorem ipsum Lorem ipsum Lorem ipsum</td>\n",
              "      <td>1</td>\n",
              "      <td>0</td>\n",
              "      <td>2</td>\n",
              "      <td>a8502d17-692c-4c88-a2a4-19a19ba07892</td>\n",
              "      <td>6571294142213095721</td>\n",
              "      <td>pdf</td>\n",
              "      <td>bc012d063005cc02deb6c2592d1f8c3b273625edf9eec5...</td>\n",
              "      <td>35</td>\n",
              "      <td>2025-01-22T22:16:14.071453</td>\n",
              "      <td>0.706817</td>\n",
              "      <td>lorem-ipsum.pdf</td>\n",
              "    </tr>\n",
              "    <tr>\n",
              "      <th>1</th>\n",
              "      <td>spam.pdf</td>\n",
              "      <td>Free xxx</td>\n",
              "      <td>1</td>\n",
              "      <td>0</td>\n",
              "      <td>2</td>\n",
              "      <td>08f28dfa-e607-4c47-b9d6-66b7b8c193b7</td>\n",
              "      <td>10026122586747302274</td>\n",
              "      <td>pdf</td>\n",
              "      <td>543ffc97aef373ee009a5f908e0358ef80d329ca7ba964...</td>\n",
              "      <td>8</td>\n",
              "      <td>2025-01-22T22:16:15.372196</td>\n",
              "      <td>0.631735</td>\n",
              "      <td>spam.pdf</td>\n",
              "    </tr>\n",
              "    <tr>\n",
              "      <th>2</th>\n",
              "      <td>earth2.pdf</td>\n",
              "      <td>## Earth\\n\\n## Solar System\\n\\nOur solar syste...</td>\n",
              "      <td>1</td>\n",
              "      <td>0</td>\n",
              "      <td>11</td>\n",
              "      <td>1e279ae8-df6a-4b07-8500-6f0a564f352b</td>\n",
              "      <td>10729312978404042321</td>\n",
              "      <td>pdf</td>\n",
              "      <td>f039191d59ce8ba25023a844f9b99e7ef2ea4bf75a23f4...</td>\n",
              "      <td>610</td>\n",
              "      <td>2025-01-22T22:16:13.363045</td>\n",
              "      <td>0.796537</td>\n",
              "      <td>earth2.pdf</td>\n",
              "    </tr>\n",
              "    <tr>\n",
              "      <th>3</th>\n",
              "      <td>mars.pdf</td>\n",
              "      <td>## Mars\\n\\n## Solar System\\n\\nOur solar system...</td>\n",
              "      <td>1</td>\n",
              "      <td>0</td>\n",
              "      <td>11</td>\n",
              "      <td>3685b6ed-bd33-49f3-95a5-806d28e8311b</td>\n",
              "      <td>7758129997476962679</td>\n",
              "      <td>pdf</td>\n",
              "      <td>a3a4bb3b8f4f441d6d669e09f0cd07a9420d06850cf63e...</td>\n",
              "      <td>717</td>\n",
              "      <td>2025-01-22T22:16:14.738818</td>\n",
              "      <td>0.665504</td>\n",
              "      <td>mars.pdf</td>\n",
              "    </tr>\n",
              "    <tr>\n",
              "      <th>4</th>\n",
              "      <td>earth-copy.pdf</td>\n",
              "      <td>## Earth\\n\\n## Solar System\\n\\nOur solar syste...</td>\n",
              "      <td>1</td>\n",
              "      <td>0</td>\n",
              "      <td>11</td>\n",
              "      <td>5a070315-684b-481f-9c9f-76903a720d44</td>\n",
              "      <td>14711865278795535908</td>\n",
              "      <td>pdf</td>\n",
              "      <td>6140cf695f269a3ddca6568536076756105ad3186086b2...</td>\n",
              "      <td>610</td>\n",
              "      <td>2025-01-22T22:16:11.723987</td>\n",
              "      <td>1.010865</td>\n",
              "      <td>earth-copy.pdf</td>\n",
              "    </tr>\n",
              "  </tbody>\n",
              "</table>\n",
              "</div>"
            ],
            "text/plain": [
              "          filename                                           contents  \\\n",
              "0  lorem-ipsum.pdf                Lorem ipsum Lorem ipsum Lorem ipsum   \n",
              "1         spam.pdf                                           Free xxx   \n",
              "2       earth2.pdf  ## Earth\\n\\n## Solar System\\n\\nOur solar syste...   \n",
              "3         mars.pdf  ## Mars\\n\\n## Solar System\\n\\nOur solar system...   \n",
              "4   earth-copy.pdf  ## Earth\\n\\n## Solar System\\n\\nOur solar syste...   \n",
              "\n",
              "   num_pages  num_tables  num_doc_elements  \\\n",
              "0          1           0                 2   \n",
              "1          1           0                 2   \n",
              "2          1           0                11   \n",
              "3          1           0                11   \n",
              "4          1           0                11   \n",
              "\n",
              "                            document_id         document_hash  ext  \\\n",
              "0  a8502d17-692c-4c88-a2a4-19a19ba07892   6571294142213095721  pdf   \n",
              "1  08f28dfa-e607-4c47-b9d6-66b7b8c193b7  10026122586747302274  pdf   \n",
              "2  1e279ae8-df6a-4b07-8500-6f0a564f352b  10729312978404042321  pdf   \n",
              "3  3685b6ed-bd33-49f3-95a5-806d28e8311b   7758129997476962679  pdf   \n",
              "4  5a070315-684b-481f-9c9f-76903a720d44  14711865278795535908  pdf   \n",
              "\n",
              "                                                hash  size  \\\n",
              "0  bc012d063005cc02deb6c2592d1f8c3b273625edf9eec5...    35   \n",
              "1  543ffc97aef373ee009a5f908e0358ef80d329ca7ba964...     8   \n",
              "2  f039191d59ce8ba25023a844f9b99e7ef2ea4bf75a23f4...   610   \n",
              "3  a3a4bb3b8f4f441d6d669e09f0cd07a9420d06850cf63e...   717   \n",
              "4  6140cf695f269a3ddca6568536076756105ad3186086b2...   610   \n",
              "\n",
              "                date_acquired  pdf_convert_time  source_filename  \n",
              "0  2025-01-22T22:16:14.071453          0.706817  lorem-ipsum.pdf  \n",
              "1  2025-01-22T22:16:15.372196          0.631735         spam.pdf  \n",
              "2  2025-01-22T22:16:13.363045          0.796537       earth2.pdf  \n",
              "3  2025-01-22T22:16:14.738818          0.665504         mars.pdf  \n",
              "4  2025-01-22T22:16:11.723987          1.010865   earth-copy.pdf  "
            ]
          },
          "execution_count": 8,
          "metadata": {},
          "output_type": "execute_result"
        }
      ],
      "source": [
        "print (\"Displaying contents of : \", output_text_dir)\n",
        "output_df = read_parquet_files_as_df(output_text_dir)\n",
        "# print (\"Output dimensions (rows x columns)= \", output_df.shape)\n",
        "output_df.head()\n",
        "\n",
        "## To display certain columns\n",
        "#parquet_df[['column1', 'column2', 'column3']].head(5)"
      ]
    },
    {
      "cell_type": "markdown",
      "id": "e5058a21",
      "metadata": {
        "id": "e5058a21"
      },
      "source": [
        "\n",
        "### 4.3 - Understand the output\n",
        "\n",
        "Here are some interesting attributes to note:\n",
        "\n",
        "- **filename** : original filename\n",
        "- **contents** : text\n",
        "- **document_id**: unique id (UUID) assignd to this document\n",
        "- **document_hash**: hash of documents\n",
        "- **hash** : hash of `contents` column\n",
        "- **pdf_convert_time** : time to convert this pdf in seconds\n",
        "\n",
        "**Note: you should notice the hash values are identical for the duplicate documents**\n",
        "\n",
        "Let's inspect the **contents** column."
      ]
    },
    {
      "cell_type": "code",
      "execution_count": null,
      "id": "f870e624",
      "metadata": {
        "colab": {
          "base_uri": "https://localhost:8080/"
        },
        "id": "f870e624",
        "outputId": "8064d9df-c226-4795-b9ad-34d50709a8c3"
      },
      "outputs": [
        {
          "name": "stdout",
          "output_type": "stream",
          "text": [
            "Lorem ipsum Lorem ipsum Lorem ipsum\n"
          ]
        }
      ],
      "source": [
        "print (output_df.iloc[0, ]['contents'])"
      ]
    },
    {
      "cell_type": "code",
      "execution_count": null,
      "id": "e1a10c2d",
      "metadata": {
        "colab": {
          "base_uri": "https://localhost:8080/"
        },
        "id": "e1a10c2d",
        "outputId": "3dbf4e39-1c4c-443e-968c-32aae9010165"
      },
      "outputs": [
        {
          "name": "stdout",
          "output_type": "stream",
          "text": [
            "Free xxx\n"
          ]
        }
      ],
      "source": [
        "print (output_df.iloc[1, ]['contents'])\n"
      ]
    },
    {
      "cell_type": "markdown",
      "id": "7fc86d5b",
      "metadata": {
        "id": "7fc86d5b"
      },
      "source": [
        "## Step-5:  Create DOC ID for Documents\n",
        "\n",
        "This transform annotates documents with document \"ids\". It supports the following transformations of the original data:\n",
        "\n",
        " - Adding document hash: this enables the addition of a document hash-based id to the data. The hash is calculated with `hashlib.sha256(doc.encode(\"utf-8\")).hexdigest()`. To enable this annotation, set **hash_column** to the name of the column, where you want to store it.\n",
        " - Adding integer document id: this allows the addition of an integer document id to the data that is unique across all rows in all tables provided to the transform() method. To enable this annotation, set **int_id_column** to the name of the column, where you want to store it.\n",
        "\n",
        "**This step is a pre-requisite for fuzzy dedup** in the pipeline.\n",
        "\n",
        "[DocID documentation](https://github.com/IBM/data-prep-kit/tree/dev/transforms/universal/doc_id)"
      ]
    },
    {
      "cell_type": "markdown",
      "id": "f516a253",
      "metadata": {
        "id": "f516a253"
      },
      "source": [
        "### 5.1 - Execute"
      ]
    },
    {
      "cell_type": "code",
      "execution_count": null,
      "id": "cee20521",
      "metadata": {
        "colab": {
          "base_uri": "https://localhost:8080/"
        },
        "id": "cee20521",
        "outputId": "dd568017-e39c-4524-cdcf-6c97a1341ab9"
      },
      "outputs": [
        {
          "name": "stdout",
          "output_type": "stream",
          "text": [
            "🏃🏼 STAGE-2: Processing input='output/01_text_out' --> output='output/02_docid_out'\n",
            "\n"
          ]
        },
        {
          "name": "stderr",
          "output_type": "stream",
          "text": [
            "22:16:15 INFO - Doc id parameters are : {'doc_column': 'contents', 'hash_column': 'doc_hash', 'int_column': 'int_id_column', 'start_id': 0}\n",
            "22:16:15 INFO - pipeline id pipeline_id\n",
            "22:16:15 INFO - code location None\n",
            "22:16:15 INFO - data factory data_ is using local data access: input_folder - output/01_text_out output_folder - output/02_docid_out\n",
            "22:16:15 INFO - data factory data_ max_files -1, n_sample -1\n",
            "22:16:15 INFO - data factory data_ Not using data sets, checkpointing False, max files -1, random samples -1, files to use ['.parquet'], files to checkpoint ['.parquet']\n",
            "22:16:15 INFO - orchestrator doc_id started at 2025-01-22 22:16:15\n",
            "22:16:15 INFO - Number of files is 6, source profile {'max_file_size': 0.010061264038085938, 'min_file_size': 0.0055408477783203125, 'total_file_size': 0.04969310760498047}\n",
            "22:16:15 INFO - Completed 1 files (16.67%) in 0.0 min\n",
            "22:16:15 INFO - Completed 2 files (33.33%) in 0.0 min\n",
            "22:16:15 INFO - Completed 3 files (50.0%) in 0.0 min\n",
            "22:16:15 INFO - Completed 4 files (66.67%) in 0.0 min\n",
            "22:16:15 INFO - Completed 5 files (83.33%) in 0.0 min\n",
            "22:16:15 INFO - Completed 6 files (100.0%) in 0.0 min\n",
            "22:16:15 INFO - Done processing 6 files, waiting for flush() completion.\n",
            "22:16:15 INFO - done flushing in 0.0 sec\n",
            "22:16:15 INFO - Completed execution in 0.0 min, execution result 0\n"
          ]
        },
        {
          "name": "stdout",
          "output_type": "stream",
          "text": [
            "✅ Stage:2 completed successfully\n",
            "CPU times: user 26.1 ms, sys: 5.22 ms, total: 31.3 ms\n",
            "Wall time: 25.3 ms\n"
          ]
        }
      ],
      "source": [
        "%%time\n",
        "\n",
        "from dpk_doc_id.transform_python import DocID\n",
        "\n",
        "STAGE = 2\n",
        "print (f\"🏃🏼 STAGE-{STAGE}: Processing input='{output_text_dir}' --> output='{output_docid_dir}'\\n\", flush=True)\n",
        "\n",
        "result = DocID(input_folder= output_text_dir,\n",
        "        output_folder= output_docid_dir,\n",
        "        doc_id_doc_column= \"contents\",\n",
        "        doc_id_hash_column= \"doc_hash\",\n",
        "        # doc_id_int_column= \"doc_id\",\n",
        "        doc_id_int_column= \"int_id_column\",\n",
        "        #doc_id_start_id= 5\n",
        "        ).transform()\n",
        "\n",
        "if result == 0:\n",
        "    print (f\"✅ Stage:{STAGE} completed successfully\")\n",
        "else:\n",
        "    raise Exception (f\"❌ Stage:{STAGE}  failed\")\n"
      ]
    },
    {
      "cell_type": "markdown",
      "id": "4bd6f382",
      "metadata": {
        "id": "4bd6f382"
      },
      "source": [
        "### 5.2 - Inspect Generated output\n",
        "\n",
        "You would see a new columns **doc_hash** and **int_id_column**"
      ]
    },
    {
      "cell_type": "code",
      "execution_count": null,
      "id": "f3d4aba9",
      "metadata": {
        "colab": {
          "base_uri": "https://localhost:8080/",
          "height": 557
        },
        "id": "f3d4aba9",
        "outputId": "b4b868b3-ebc7-48a2-f0c5-b0b023a24238"
      },
      "outputs": [
        {
          "name": "stdout",
          "output_type": "stream",
          "text": [
            "Displaying contents of :  output/02_docid_out\n"
          ]
        },
        {
          "data": {
            "text/html": [
              "<div>\n",
              "<style scoped>\n",
              "    .dataframe tbody tr th:only-of-type {\n",
              "        vertical-align: middle;\n",
              "    }\n",
              "\n",
              "    .dataframe tbody tr th {\n",
              "        vertical-align: top;\n",
              "    }\n",
              "\n",
              "    .dataframe thead th {\n",
              "        text-align: right;\n",
              "    }\n",
              "</style>\n",
              "<table border=\"1\" class=\"dataframe\">\n",
              "  <thead>\n",
              "    <tr style=\"text-align: right;\">\n",
              "      <th></th>\n",
              "      <th>filename</th>\n",
              "      <th>contents</th>\n",
              "      <th>num_pages</th>\n",
              "      <th>num_tables</th>\n",
              "      <th>num_doc_elements</th>\n",
              "      <th>document_id</th>\n",
              "      <th>document_hash</th>\n",
              "      <th>ext</th>\n",
              "      <th>hash</th>\n",
              "      <th>size</th>\n",
              "      <th>date_acquired</th>\n",
              "      <th>pdf_convert_time</th>\n",
              "      <th>source_filename</th>\n",
              "      <th>doc_hash</th>\n",
              "      <th>int_id_column</th>\n",
              "    </tr>\n",
              "  </thead>\n",
              "  <tbody>\n",
              "    <tr>\n",
              "      <th>0</th>\n",
              "      <td>lorem-ipsum.pdf</td>\n",
              "      <td>Lorem ipsum Lorem ipsum Lorem ipsum</td>\n",
              "      <td>1</td>\n",
              "      <td>0</td>\n",
              "      <td>2</td>\n",
              "      <td>a8502d17-692c-4c88-a2a4-19a19ba07892</td>\n",
              "      <td>6571294142213095721</td>\n",
              "      <td>pdf</td>\n",
              "      <td>bc012d063005cc02deb6c2592d1f8c3b273625edf9eec5...</td>\n",
              "      <td>35</td>\n",
              "      <td>2025-01-22T22:16:14.071453</td>\n",
              "      <td>0.706817</td>\n",
              "      <td>lorem-ipsum.pdf</td>\n",
              "      <td>bc012d063005cc02deb6c2592d1f8c3b273625edf9eec5...</td>\n",
              "      <td>3</td>\n",
              "    </tr>\n",
              "    <tr>\n",
              "      <th>1</th>\n",
              "      <td>spam.pdf</td>\n",
              "      <td>Free xxx</td>\n",
              "      <td>1</td>\n",
              "      <td>0</td>\n",
              "      <td>2</td>\n",
              "      <td>08f28dfa-e607-4c47-b9d6-66b7b8c193b7</td>\n",
              "      <td>10026122586747302274</td>\n",
              "      <td>pdf</td>\n",
              "      <td>543ffc97aef373ee009a5f908e0358ef80d329ca7ba964...</td>\n",
              "      <td>8</td>\n",
              "      <td>2025-01-22T22:16:15.372196</td>\n",
              "      <td>0.631735</td>\n",
              "      <td>spam.pdf</td>\n",
              "      <td>543ffc97aef373ee009a5f908e0358ef80d329ca7ba964...</td>\n",
              "      <td>5</td>\n",
              "    </tr>\n",
              "    <tr>\n",
              "      <th>2</th>\n",
              "      <td>earth2.pdf</td>\n",
              "      <td>## Earth\\n\\n## Solar System\\n\\nOur solar syste...</td>\n",
              "      <td>1</td>\n",
              "      <td>0</td>\n",
              "      <td>11</td>\n",
              "      <td>1e279ae8-df6a-4b07-8500-6f0a564f352b</td>\n",
              "      <td>10729312978404042321</td>\n",
              "      <td>pdf</td>\n",
              "      <td>f039191d59ce8ba25023a844f9b99e7ef2ea4bf75a23f4...</td>\n",
              "      <td>610</td>\n",
              "      <td>2025-01-22T22:16:13.363045</td>\n",
              "      <td>0.796537</td>\n",
              "      <td>earth2.pdf</td>\n",
              "      <td>f039191d59ce8ba25023a844f9b99e7ef2ea4bf75a23f4...</td>\n",
              "      <td>2</td>\n",
              "    </tr>\n",
              "    <tr>\n",
              "      <th>3</th>\n",
              "      <td>mars.pdf</td>\n",
              "      <td>## Mars\\n\\n## Solar System\\n\\nOur solar system...</td>\n",
              "      <td>1</td>\n",
              "      <td>0</td>\n",
              "      <td>11</td>\n",
              "      <td>3685b6ed-bd33-49f3-95a5-806d28e8311b</td>\n",
              "      <td>7758129997476962679</td>\n",
              "      <td>pdf</td>\n",
              "      <td>a3a4bb3b8f4f441d6d669e09f0cd07a9420d06850cf63e...</td>\n",
              "      <td>717</td>\n",
              "      <td>2025-01-22T22:16:14.738818</td>\n",
              "      <td>0.665504</td>\n",
              "      <td>mars.pdf</td>\n",
              "      <td>a3a4bb3b8f4f441d6d669e09f0cd07a9420d06850cf63e...</td>\n",
              "      <td>4</td>\n",
              "    </tr>\n",
              "    <tr>\n",
              "      <th>4</th>\n",
              "      <td>earth-copy.pdf</td>\n",
              "      <td>## Earth\\n\\n## Solar System\\n\\nOur solar syste...</td>\n",
              "      <td>1</td>\n",
              "      <td>0</td>\n",
              "      <td>11</td>\n",
              "      <td>5a070315-684b-481f-9c9f-76903a720d44</td>\n",
              "      <td>14711865278795535908</td>\n",
              "      <td>pdf</td>\n",
              "      <td>6140cf695f269a3ddca6568536076756105ad3186086b2...</td>\n",
              "      <td>610</td>\n",
              "      <td>2025-01-22T22:16:11.723987</td>\n",
              "      <td>1.010865</td>\n",
              "      <td>earth-copy.pdf</td>\n",
              "      <td>6140cf695f269a3ddca6568536076756105ad3186086b2...</td>\n",
              "      <td>0</td>\n",
              "    </tr>\n",
              "  </tbody>\n",
              "</table>\n",
              "</div>"
            ],
            "text/plain": [
              "          filename                                           contents  \\\n",
              "0  lorem-ipsum.pdf                Lorem ipsum Lorem ipsum Lorem ipsum   \n",
              "1         spam.pdf                                           Free xxx   \n",
              "2       earth2.pdf  ## Earth\\n\\n## Solar System\\n\\nOur solar syste...   \n",
              "3         mars.pdf  ## Mars\\n\\n## Solar System\\n\\nOur solar system...   \n",
              "4   earth-copy.pdf  ## Earth\\n\\n## Solar System\\n\\nOur solar syste...   \n",
              "\n",
              "   num_pages  num_tables  num_doc_elements  \\\n",
              "0          1           0                 2   \n",
              "1          1           0                 2   \n",
              "2          1           0                11   \n",
              "3          1           0                11   \n",
              "4          1           0                11   \n",
              "\n",
              "                            document_id         document_hash  ext  \\\n",
              "0  a8502d17-692c-4c88-a2a4-19a19ba07892   6571294142213095721  pdf   \n",
              "1  08f28dfa-e607-4c47-b9d6-66b7b8c193b7  10026122586747302274  pdf   \n",
              "2  1e279ae8-df6a-4b07-8500-6f0a564f352b  10729312978404042321  pdf   \n",
              "3  3685b6ed-bd33-49f3-95a5-806d28e8311b   7758129997476962679  pdf   \n",
              "4  5a070315-684b-481f-9c9f-76903a720d44  14711865278795535908  pdf   \n",
              "\n",
              "                                                hash  size  \\\n",
              "0  bc012d063005cc02deb6c2592d1f8c3b273625edf9eec5...    35   \n",
              "1  543ffc97aef373ee009a5f908e0358ef80d329ca7ba964...     8   \n",
              "2  f039191d59ce8ba25023a844f9b99e7ef2ea4bf75a23f4...   610   \n",
              "3  a3a4bb3b8f4f441d6d669e09f0cd07a9420d06850cf63e...   717   \n",
              "4  6140cf695f269a3ddca6568536076756105ad3186086b2...   610   \n",
              "\n",
              "                date_acquired  pdf_convert_time  source_filename  \\\n",
              "0  2025-01-22T22:16:14.071453          0.706817  lorem-ipsum.pdf   \n",
              "1  2025-01-22T22:16:15.372196          0.631735         spam.pdf   \n",
              "2  2025-01-22T22:16:13.363045          0.796537       earth2.pdf   \n",
              "3  2025-01-22T22:16:14.738818          0.665504         mars.pdf   \n",
              "4  2025-01-22T22:16:11.723987          1.010865   earth-copy.pdf   \n",
              "\n",
              "                                            doc_hash  int_id_column  \n",
              "0  bc012d063005cc02deb6c2592d1f8c3b273625edf9eec5...              3  \n",
              "1  543ffc97aef373ee009a5f908e0358ef80d329ca7ba964...              5  \n",
              "2  f039191d59ce8ba25023a844f9b99e7ef2ea4bf75a23f4...              2  \n",
              "3  a3a4bb3b8f4f441d6d669e09f0cd07a9420d06850cf63e...              4  \n",
              "4  6140cf695f269a3ddca6568536076756105ad3186086b2...              0  "
            ]
          },
          "execution_count": 12,
          "metadata": {},
          "output_type": "execute_result"
        }
      ],
      "source": [
        "print (\"Displaying contents of : \", output_docid_dir)\n",
        "output_df = read_parquet_files_as_df(output_docid_dir)\n",
        "output_df.head()"
      ]
    },
    {
      "cell_type": "markdown",
      "id": "c55f8d3f",
      "metadata": {
        "id": "c55f8d3f"
      },
      "source": [
        "## Step-6: Eliminate Duplicate Documents\n",
        "\n",
        "We have 2 exact duplicates: **earth.pdf** , **earth-copy.pdf**\n",
        "\n",
        "Note how **doc_hash** for these documents are the same.\n",
        "\n",
        "[Exact dedupe information](https://github.com/IBM/data-prep-kit/tree/dev/transforms/universal/ededup)"
      ]
    },
    {
      "cell_type": "markdown",
      "id": "6f5ef1f7",
      "metadata": {
        "id": "6f5ef1f7"
      },
      "source": [
        "### 6.1 - Execute"
      ]
    },
    {
      "cell_type": "code",
      "execution_count": null,
      "id": "90eddb4c",
      "metadata": {
        "colab": {
          "base_uri": "https://localhost:8080/"
        },
        "id": "90eddb4c",
        "outputId": "61221177-f23e-4daa-8e34-237582fc19b0"
      },
      "outputs": [
        {
          "name": "stdout",
          "output_type": "stream",
          "text": [
            "🏃🏼 STAGE-3: Processing input='output/02_docid_out' --> output='output/03_exact_dedupe_out'\n",
            "\n"
          ]
        },
        {
          "name": "stderr",
          "output_type": "stream",
          "text": [
            "22:16:15 INFO - exact dedup params are {'doc_column': 'contents', 'doc_id_column': 'doc_hash', 'use_snapshot': False, 'snapshot_directory': None}\n",
            "22:16:15 INFO - pipeline id pipeline_id\n",
            "22:16:15 INFO - code location None\n",
            "22:16:15 INFO - data factory data_ is using local data access: input_folder - output/02_docid_out output_folder - output/03_exact_dedupe_out\n",
            "22:16:15 INFO - data factory data_ max_files -1, n_sample -1\n",
            "22:16:15 INFO - data factory data_ Not using data sets, checkpointing False, max files -1, random samples -1, files to use ['.parquet'], files to checkpoint ['.parquet']\n",
            "22:16:15 INFO - orchestrator ededup started at 2025-01-22 22:16:15\n",
            "22:16:15 INFO - Number of files is 6, source profile {'max_file_size': 0.01116180419921875, 'min_file_size': 0.006641387939453125, 'total_file_size': 0.056290626525878906}\n",
            "22:16:15 INFO - Starting from the beginning\n",
            "22:16:15 INFO - Completed 1 files (16.67%) in 0.0 min\n",
            "22:16:15 INFO - Completed 2 files (33.33%) in 0.0 min\n",
            "22:16:15 INFO - Completed 3 files (50.0%) in 0.0 min\n",
            "22:16:15 INFO - Completed 4 files (66.67%) in 0.0 min\n",
            "22:16:15 INFO - Completed 5 files (83.33%) in 0.0 min\n",
            "22:16:15 INFO - Completed 6 files (100.0%) in 0.0 min\n",
            "22:16:15 INFO - Done processing 6 files, waiting for flush() completion.\n",
            "22:16:15 INFO - done flushing in 0.0 sec\n",
            "22:16:15 INFO - Completed execution in 0.0 min, execution result 0\n"
          ]
        },
        {
          "name": "stdout",
          "output_type": "stream",
          "text": [
            "✅ Stage:3 completed successfully\n",
            "CPU times: user 25.2 ms, sys: 4.28 ms, total: 29.5 ms\n",
            "Wall time: 23 ms\n"
          ]
        }
      ],
      "source": [
        "%%time\n",
        "\n",
        "from dpk_ededup.transform_python import Ededup\n",
        "\n",
        "STAGE = 3\n",
        "print (f\"🏃🏼 STAGE-{STAGE}: Processing input='{output_docid_dir}' --> output='{output_exact_dedupe_dir}'\\n\", flush=True)\n",
        "\n",
        "result = Ededup(input_folder=output_docid_dir,\n",
        "    output_folder=output_exact_dedupe_dir,\n",
        "    ededup_doc_column=\"contents\",\n",
        "    ededup_doc_id_column=\"doc_hash\"\n",
        "    ).transform()\n",
        "\n",
        "if result == 0:\n",
        "    print (f\"✅ Stage:{STAGE} completed successfully\")\n",
        "else:\n",
        "    raise Exception (f\"❌ Stage:{STAGE}  failed\")"
      ]
    },
    {
      "cell_type": "markdown",
      "id": "f4aacf09",
      "metadata": {
        "id": "f4aacf09"
      },
      "source": [
        "### 6.2 - Inspect Generated output\n",
        "\n",
        "You can see one of **earth.pdf** or **earth-copy.pdf** will be eliminated."
      ]
    },
    {
      "cell_type": "code",
      "execution_count": null,
      "id": "1887b26d",
      "metadata": {
        "colab": {
          "base_uri": "https://localhost:8080/",
          "height": 611
        },
        "id": "1887b26d",
        "outputId": "31210411-1abd-418a-c1d9-167770788d62"
      },
      "outputs": [
        {
          "name": "stdout",
          "output_type": "stream",
          "text": [
            "Input files before exact dedupe : 6\n",
            "Output files after exact dedupe : 5\n",
            "Duplicate files removed :   1\n",
            "Displaying contents of :  output/03_exact_dedupe_out\n"
          ]
        },
        {
          "data": {
            "text/html": [
              "<div>\n",
              "<style scoped>\n",
              "    .dataframe tbody tr th:only-of-type {\n",
              "        vertical-align: middle;\n",
              "    }\n",
              "\n",
              "    .dataframe tbody tr th {\n",
              "        vertical-align: top;\n",
              "    }\n",
              "\n",
              "    .dataframe thead th {\n",
              "        text-align: right;\n",
              "    }\n",
              "</style>\n",
              "<table border=\"1\" class=\"dataframe\">\n",
              "  <thead>\n",
              "    <tr style=\"text-align: right;\">\n",
              "      <th></th>\n",
              "      <th>filename</th>\n",
              "      <th>contents</th>\n",
              "      <th>num_pages</th>\n",
              "      <th>num_tables</th>\n",
              "      <th>num_doc_elements</th>\n",
              "      <th>document_id</th>\n",
              "      <th>document_hash</th>\n",
              "      <th>ext</th>\n",
              "      <th>hash</th>\n",
              "      <th>size</th>\n",
              "      <th>date_acquired</th>\n",
              "      <th>pdf_convert_time</th>\n",
              "      <th>source_filename</th>\n",
              "      <th>doc_hash</th>\n",
              "      <th>int_id_column</th>\n",
              "      <th>removed</th>\n",
              "    </tr>\n",
              "  </thead>\n",
              "  <tbody>\n",
              "    <tr>\n",
              "      <th>0</th>\n",
              "      <td>lorem-ipsum.pdf</td>\n",
              "      <td>Lorem ipsum Lorem ipsum Lorem ipsum</td>\n",
              "      <td>1</td>\n",
              "      <td>0</td>\n",
              "      <td>2</td>\n",
              "      <td>a8502d17-692c-4c88-a2a4-19a19ba07892</td>\n",
              "      <td>6571294142213095721</td>\n",
              "      <td>pdf</td>\n",
              "      <td>bc012d063005cc02deb6c2592d1f8c3b273625edf9eec5...</td>\n",
              "      <td>35</td>\n",
              "      <td>2025-01-22T22:16:14.071453</td>\n",
              "      <td>0.706817</td>\n",
              "      <td>lorem-ipsum.pdf</td>\n",
              "      <td>bc012d063005cc02deb6c2592d1f8c3b273625edf9eec5...</td>\n",
              "      <td>3</td>\n",
              "      <td>[]</td>\n",
              "    </tr>\n",
              "    <tr>\n",
              "      <th>1</th>\n",
              "      <td>spam.pdf</td>\n",
              "      <td>Free xxx</td>\n",
              "      <td>1</td>\n",
              "      <td>0</td>\n",
              "      <td>2</td>\n",
              "      <td>08f28dfa-e607-4c47-b9d6-66b7b8c193b7</td>\n",
              "      <td>10026122586747302274</td>\n",
              "      <td>pdf</td>\n",
              "      <td>543ffc97aef373ee009a5f908e0358ef80d329ca7ba964...</td>\n",
              "      <td>8</td>\n",
              "      <td>2025-01-22T22:16:15.372196</td>\n",
              "      <td>0.631735</td>\n",
              "      <td>spam.pdf</td>\n",
              "      <td>543ffc97aef373ee009a5f908e0358ef80d329ca7ba964...</td>\n",
              "      <td>5</td>\n",
              "      <td>[]</td>\n",
              "    </tr>\n",
              "    <tr>\n",
              "      <th>2</th>\n",
              "      <td>earth2.pdf</td>\n",
              "      <td>## Earth\\n\\n## Solar System\\n\\nOur solar syste...</td>\n",
              "      <td>1</td>\n",
              "      <td>0</td>\n",
              "      <td>11</td>\n",
              "      <td>1e279ae8-df6a-4b07-8500-6f0a564f352b</td>\n",
              "      <td>10729312978404042321</td>\n",
              "      <td>pdf</td>\n",
              "      <td>f039191d59ce8ba25023a844f9b99e7ef2ea4bf75a23f4...</td>\n",
              "      <td>610</td>\n",
              "      <td>2025-01-22T22:16:13.363045</td>\n",
              "      <td>0.796537</td>\n",
              "      <td>earth2.pdf</td>\n",
              "      <td>f039191d59ce8ba25023a844f9b99e7ef2ea4bf75a23f4...</td>\n",
              "      <td>2</td>\n",
              "      <td>[]</td>\n",
              "    </tr>\n",
              "    <tr>\n",
              "      <th>3</th>\n",
              "      <td>mars.pdf</td>\n",
              "      <td>## Mars\\n\\n## Solar System\\n\\nOur solar system...</td>\n",
              "      <td>1</td>\n",
              "      <td>0</td>\n",
              "      <td>11</td>\n",
              "      <td>3685b6ed-bd33-49f3-95a5-806d28e8311b</td>\n",
              "      <td>7758129997476962679</td>\n",
              "      <td>pdf</td>\n",
              "      <td>a3a4bb3b8f4f441d6d669e09f0cd07a9420d06850cf63e...</td>\n",
              "      <td>717</td>\n",
              "      <td>2025-01-22T22:16:14.738818</td>\n",
              "      <td>0.665504</td>\n",
              "      <td>mars.pdf</td>\n",
              "      <td>a3a4bb3b8f4f441d6d669e09f0cd07a9420d06850cf63e...</td>\n",
              "      <td>4</td>\n",
              "      <td>[]</td>\n",
              "    </tr>\n",
              "    <tr>\n",
              "      <th>4</th>\n",
              "      <td>earth-copy.pdf</td>\n",
              "      <td>## Earth\\n\\n## Solar System\\n\\nOur solar syste...</td>\n",
              "      <td>1</td>\n",
              "      <td>0</td>\n",
              "      <td>11</td>\n",
              "      <td>5a070315-684b-481f-9c9f-76903a720d44</td>\n",
              "      <td>14711865278795535908</td>\n",
              "      <td>pdf</td>\n",
              "      <td>6140cf695f269a3ddca6568536076756105ad3186086b2...</td>\n",
              "      <td>610</td>\n",
              "      <td>2025-01-22T22:16:11.723987</td>\n",
              "      <td>1.010865</td>\n",
              "      <td>earth-copy.pdf</td>\n",
              "      <td>6140cf695f269a3ddca6568536076756105ad3186086b2...</td>\n",
              "      <td>0</td>\n",
              "      <td>[]</td>\n",
              "    </tr>\n",
              "  </tbody>\n",
              "</table>\n",
              "</div>"
            ],
            "text/plain": [
              "          filename                                           contents  \\\n",
              "0  lorem-ipsum.pdf                Lorem ipsum Lorem ipsum Lorem ipsum   \n",
              "1         spam.pdf                                           Free xxx   \n",
              "2       earth2.pdf  ## Earth\\n\\n## Solar System\\n\\nOur solar syste...   \n",
              "3         mars.pdf  ## Mars\\n\\n## Solar System\\n\\nOur solar system...   \n",
              "4   earth-copy.pdf  ## Earth\\n\\n## Solar System\\n\\nOur solar syste...   \n",
              "\n",
              "   num_pages  num_tables  num_doc_elements  \\\n",
              "0          1           0                 2   \n",
              "1          1           0                 2   \n",
              "2          1           0                11   \n",
              "3          1           0                11   \n",
              "4          1           0                11   \n",
              "\n",
              "                            document_id         document_hash  ext  \\\n",
              "0  a8502d17-692c-4c88-a2a4-19a19ba07892   6571294142213095721  pdf   \n",
              "1  08f28dfa-e607-4c47-b9d6-66b7b8c193b7  10026122586747302274  pdf   \n",
              "2  1e279ae8-df6a-4b07-8500-6f0a564f352b  10729312978404042321  pdf   \n",
              "3  3685b6ed-bd33-49f3-95a5-806d28e8311b   7758129997476962679  pdf   \n",
              "4  5a070315-684b-481f-9c9f-76903a720d44  14711865278795535908  pdf   \n",
              "\n",
              "                                                hash  size  \\\n",
              "0  bc012d063005cc02deb6c2592d1f8c3b273625edf9eec5...    35   \n",
              "1  543ffc97aef373ee009a5f908e0358ef80d329ca7ba964...     8   \n",
              "2  f039191d59ce8ba25023a844f9b99e7ef2ea4bf75a23f4...   610   \n",
              "3  a3a4bb3b8f4f441d6d669e09f0cd07a9420d06850cf63e...   717   \n",
              "4  6140cf695f269a3ddca6568536076756105ad3186086b2...   610   \n",
              "\n",
              "                date_acquired  pdf_convert_time  source_filename  \\\n",
              "0  2025-01-22T22:16:14.071453          0.706817  lorem-ipsum.pdf   \n",
              "1  2025-01-22T22:16:15.372196          0.631735         spam.pdf   \n",
              "2  2025-01-22T22:16:13.363045          0.796537       earth2.pdf   \n",
              "3  2025-01-22T22:16:14.738818          0.665504         mars.pdf   \n",
              "4  2025-01-22T22:16:11.723987          1.010865   earth-copy.pdf   \n",
              "\n",
              "                                            doc_hash  int_id_column removed  \n",
              "0  bc012d063005cc02deb6c2592d1f8c3b273625edf9eec5...              3      []  \n",
              "1  543ffc97aef373ee009a5f908e0358ef80d329ca7ba964...              5      []  \n",
              "2  f039191d59ce8ba25023a844f9b99e7ef2ea4bf75a23f4...              2      []  \n",
              "3  a3a4bb3b8f4f441d6d669e09f0cd07a9420d06850cf63e...              4      []  \n",
              "4  6140cf695f269a3ddca6568536076756105ad3186086b2...              0      []  "
            ]
          },
          "execution_count": 14,
          "metadata": {},
          "output_type": "execute_result"
        }
      ],
      "source": [
        "input_df = read_parquet_files_as_df(output_docid_dir)\n",
        "output_df = read_parquet_files_as_df(output_exact_dedupe_dir)\n",
        "\n",
        "# print (\"Input data dimensions (rows x columns)= \", input_df.shape)\n",
        "# print (\"Output data dimensions (rows x columns)= \", output_df.shape)\n",
        "print (f\"Input files before exact dedupe : {input_df.shape[0]:,}\")\n",
        "print (f\"Output files after exact dedupe : {output_df.shape[0]:,}\")\n",
        "print (\"Duplicate files removed :  \", (input_df.shape[0] - output_df.shape[0]))\n",
        "\n",
        "print (\"Displaying contents of : \", output_exact_dedupe_dir)\n",
        "output_df.head()"
      ]
    },
    {
      "cell_type": "markdown",
      "id": "76ea34e2",
      "metadata": {
        "id": "76ea34e2"
      },
      "source": [
        "## Step-7: Fuzzy Dedupe\n",
        "\n",
        "In previous step, we removed **exact duplicates (identical documents)**.\n",
        "\n",
        "Fuzzy de-dupe can further filter out documents that are **not exactly identical, but nearly identical**\n",
        "\n",
        "Here is a simple example:\n",
        "\n",
        "`Our solar system is a vast and fascinating expanse`\n",
        "\n",
        "`The solar system is a vast and fascinating expanse`\n",
        "\n",
        "Only one word is different `Our` vs `The`.\n",
        "\n",
        "Imagine two documents with one extra blank line.  For our purposes they are the same.\n",
        "\n",
        "[Fuzzy dedupe documentation](https://github.com/IBM/data-prep-kit/tree/dev/transforms/universal/fdedup)\n",
        "\n",
        "### Tweaking fuzzy matches\n",
        "\n",
        "**`jaccard_similarity_threshold`** is the parameter used to tweak similarities between documents.  It's value is between 0 and 1.0.  Values close to 1.0 means more strict checking (fewer documents will qualify).  Lower threshold means more leniant matches (more documents will qualify)\n",
        "\n",
        "Adjust this value to find what works for your documents"
      ]
    },
    {
      "cell_type": "markdown",
      "id": "79a37713",
      "metadata": {
        "id": "79a37713"
      },
      "source": [
        "### 7.1 - Execute"
      ]
    },
    {
      "cell_type": "code",
      "execution_count": null,
      "id": "37430b60",
      "metadata": {
        "colab": {
          "base_uri": "https://localhost:8080/"
        },
        "id": "37430b60",
        "outputId": "48366a20-f5c2-4040-bf56-8b29ce40ed53"
      },
      "outputs": [
        {
          "name": "stdout",
          "output_type": "stream",
          "text": [
            "🏃🏼 STAGE-4: Processing input='output/03_exact_dedupe_out' --> output='output/04_fuzzy_dedupe_out'\n",
            "\n"
          ]
        },
        {
          "name": "stderr",
          "output_type": "stream",
          "text": [
            "22:16:15 INFO - Starting SignatureCalculation step\n",
            "22:16:15 INFO - Got parameters for SignatureCalculation\n",
            "22:16:15 INFO - minhash parameters are : {'document_id_column': 'int_id_column', 'contents_column': 'contents', 'seed': 42, 'num_permutations': 112, 'jaccard_similarity_threshold': 0.8, 'word_shingle_size': 5, 'num_bands': 14, 'num_minhashes_per_band': 8, 'num_segments': 1, 'shingle_option': 'word'}\n",
            "22:16:15 INFO - data factory scdata_ is using local configuration without input/output path\n",
            "22:16:15 INFO - data factory scdata_ max_files -1, n_sample -1\n",
            "22:16:15 INFO - data factory scdata_ Not using data sets, checkpointing False, max files -1, random samples -1, files to use ['.parquet'], files to checkpoint ['.parquet']\n",
            "22:16:15 INFO - pipeline id pipeline_id\n",
            "22:16:15 INFO - code location None\n",
            "22:16:15 INFO - data factory data_ is using local data access: input_folder - output/03_exact_dedupe_out output_folder - output/04_fuzzy_dedupe_out\n",
            "22:16:15 INFO - data factory data_ max_files -1, n_sample -1\n",
            "22:16:15 INFO - data factory data_ Not using data sets, checkpointing False, max files -1, random samples -1, files to use ['.parquet'], files to checkpoint ['.parquet']\n",
            "22:16:15 INFO - orchestrator minhash started at 2025-01-22 22:16:15\n",
            "22:16:15 INFO - Number of files is 6, source profile {'max_file_size': 0.011510848999023438, 'min_file_size': 0.003223419189453125, 'total_file_size': 0.050751686096191406}\n",
            "22:16:15 INFO - Completed 1 files (16.67%) in 0.0 min\n",
            "22:16:15 WARNING - table is empty, skipping processing\n",
            "22:16:15 INFO - Completed 2 files (33.33%) in 0.0 min\n",
            "22:16:15 INFO - Completed 3 files (50.0%) in 0.0 min\n",
            "22:16:15 INFO - Completed 4 files (66.67%) in 0.0 min\n",
            "22:16:15 INFO - Completed 5 files (83.33%) in 0.0 min\n",
            "22:16:15 INFO - Completed 6 files (100.0%) in 0.0 min\n",
            "22:16:15 INFO - Done processing 6 files, waiting for flush() completion.\n",
            "22:16:15 INFO - Starting flush()\n",
            "22:16:15 INFO - Wrote 14 tables with a total size of 33,600 bytes\n",
            "22:16:15 INFO - done flushing in 0.024 sec\n",
            "22:16:15 INFO - Completed execution in 0.001 min, execution result 0\n",
            "22:16:15 INFO - SignatureCalculation completed successfully\n",
            "22:16:15 INFO - Starting ClusterAnalysis step\n",
            "22:16:15 INFO - Got parameters for ClusterAnalysis\n",
            "22:16:15 INFO - cluster parameters are : {'jaccard_similarity_threshold': 0.8, 'num_bands': 14, 'num_segments': 1, 'sort_output': False}\n",
            "22:16:15 INFO - pipeline id pipeline_id\n",
            "22:16:15 INFO - code location None\n",
            "22:16:15 INFO - data factory data_ is using local data access: input_folder - output/04_fuzzy_dedupe_out/bands output_folder - output/04_fuzzy_dedupe_out/docs_to_remove\n",
            "22:16:15 INFO - data factory data_ max_files -1, n_sample -1\n",
            "22:16:15 INFO - data factory data_ Not using data sets, checkpointing False, max files -1, random samples -1, files to use ['.parquet'], files to checkpoint ['.parquet']\n",
            "22:16:15 INFO - orchestrator cluster started at 2025-01-22 22:16:15\n",
            "22:16:15 INFO - Number of folders is 14\n",
            "22:16:15 INFO - Completed 1 files (7.14%) in 0.0 min\n",
            "22:16:15 INFO - Completed 2 files (14.29%) in 0.0 min\n",
            "22:16:15 INFO - Completed 3 files (21.43%) in 0.0 min\n",
            "22:16:15 INFO - Completed 4 files (28.57%) in 0.0 min\n",
            "22:16:15 INFO - Completed 5 files (35.71%) in 0.0 min\n",
            "22:16:15 INFO - Completed 6 files (42.86%) in 0.0 min\n",
            "22:16:15 INFO - Completed 7 files (50.0%) in 0.0 min\n",
            "22:16:15 INFO - Completed 8 files (57.14%) in 0.0 min\n",
            "22:16:15 INFO - Completed 9 files (64.29%) in 0.0 min\n",
            "22:16:15 INFO - Completed 10 files (71.43%) in 0.0 min\n",
            "22:16:15 INFO - Completed 11 files (78.57%) in 0.0 min\n",
            "22:16:15 INFO - Completed 12 files (85.71%) in 0.0 min\n",
            "22:16:15 INFO - Completed 13 files (92.86%) in 0.0 min\n",
            "22:16:15 INFO - Completed 14 files (100.0%) in 0.001 min\n",
            "22:16:15 INFO - Done processing 14 files, waiting for flush() completion.\n",
            "22:16:15 INFO - done flushing in 0.0 sec\n",
            "22:16:15 INFO - Completed execution in 0.001 min, execution result 0\n",
            "22:16:15 INFO - ClusterAnalysis completed successfully\n",
            "22:16:15 INFO - Starting GetDuplicateList step\n",
            "22:16:15 INFO - Got parameters for GetDuplicateList\n",
            "22:16:15 INFO - fdlist parameters are : {'docs_to_remove': 'docs_to_remove', 'consolidated_filename': 'docs_to_remove_consolidated/docs_to_remove_consolidated.parquet', 'sort_output': False}\n",
            "22:16:15 INFO - pipeline id pipeline_id\n",
            "22:16:15 INFO - code location None\n",
            "22:16:15 INFO - data factory data_ is using local data access: input_folder - output/04_fuzzy_dedupe_out output_folder - output/04_fuzzy_dedupe_out\n",
            "22:16:15 INFO - data factory data_ max_files -1, n_sample -1\n",
            "22:16:15 INFO - data factory data_ Not using data sets, checkpointing False, max files -1, random samples -1, files to use ['.parquet'], files to checkpoint ['.parquet']\n",
            "22:16:15 INFO - orchestrator fdlist started at 2025-01-22 22:16:15\n",
            "22:16:15 INFO - Number of folders is 1\n",
            "22:16:15 INFO - Get Duplicate List for folder docs_to_remove\n",
            "22:16:15 INFO - 1 documents marked as duplicates\n",
            "22:16:15 INFO - Completed 1 files (100.0%) in 0.0 min\n",
            "22:16:15 INFO - Done processing 1 files, waiting for flush() completion.\n",
            "22:16:15 INFO - done flushing in 0.0 sec\n",
            "22:16:15 INFO - Completed execution in 0.0 min, execution result 0\n",
            "22:16:15 INFO - GetDuplicateList completed successfully\n",
            "22:16:15 INFO - Starting DataCleaning step\n",
            "22:16:15 INFO - Got parameters for DataCleaning\n",
            "22:16:15 INFO - fdclean parameters are : {'document_id_column': 'int_id_column', 'duplicate_list_location': 'docs_to_remove_consolidated/docs_to_remove_consolidated.parquet', 'operation_mode': 'filter_duplicates'}\n",
            "22:16:15 INFO - data factory dcdata_ is using local configuration without input/output path\n",
            "22:16:15 INFO - data factory dcdata_ max_files -1, n_sample -1\n",
            "22:16:15 INFO - data factory dcdata_ Not using data sets, checkpointing False, max files -1, random samples -1, files to use ['.parquet'], files to checkpoint ['.parquet']\n",
            "22:16:15 INFO - pipeline id pipeline_id\n",
            "22:16:15 INFO - code location None\n",
            "22:16:15 INFO - data factory data_ is using local data access: input_folder - output/03_exact_dedupe_out output_folder - output/04_fuzzy_dedupe_out/cleaned\n",
            "22:16:15 INFO - data factory data_ max_files -1, n_sample -1\n",
            "22:16:15 INFO - data factory data_ Not using data sets, checkpointing False, max files -1, random samples -1, files to use ['.parquet'], files to checkpoint ['.parquet']\n",
            "22:16:15 INFO - orchestrator fdclean started at 2025-01-22 22:16:15\n",
            "22:16:15 INFO - Number of files is 6, source profile {'max_file_size': 0.011510848999023438, 'min_file_size': 0.003223419189453125, 'total_file_size': 0.050751686096191406}\n",
            "22:16:15 INFO - Completed 1 files (16.67%) in 0.0 min\n",
            "22:16:15 WARNING - table is empty, skipping processing\n",
            "22:16:15 INFO - Completed 2 files (33.33%) in 0.0 min\n",
            "22:16:15 INFO - Completed 3 files (50.0%) in 0.0 min\n",
            "22:16:15 INFO - Completed 4 files (66.67%) in 0.0 min\n",
            "22:16:15 INFO - Completed 5 files (83.33%) in 0.0 min\n",
            "22:16:15 INFO - Completed 6 files (100.0%) in 0.0 min\n",
            "22:16:15 INFO - Done processing 6 files, waiting for flush() completion.\n",
            "22:16:15 INFO - done flushing in 0.0 sec\n",
            "22:16:15 INFO - Completed execution in 0.0 min, execution result 0\n",
            "22:16:15 INFO - DataCleaning completed successfully\n"
          ]
        },
        {
          "name": "stdout",
          "output_type": "stream",
          "text": [
            "CPU times: user 237 ms, sys: 82.4 ms, total: 320 ms\n",
            "Wall time: 209 ms\n"
          ]
        }
      ],
      "source": [
        "%%time\n",
        "\n",
        "from dpk_fdedup.transform_python import Fdedup\n",
        "\n",
        "STAGE = 4\n",
        "print (f\"🏃🏼 STAGE-{STAGE}: Processing input='{output_exact_dedupe_dir}' --> output='{output_fuzzy_dedupe_dir}'\\n\", flush=True)\n",
        "\n",
        "result = Fdedup(input_folder=output_exact_dedupe_dir,\n",
        "                output_folder=output_fuzzy_dedupe_dir,\n",
        "                contents_column= \"contents\",\n",
        "                # document_id_column= \"doc_id\",\n",
        "                document_id_column= \"int_id_column\",\n",
        "                num_permutations= 112,\n",
        "                num_bands= 14,\n",
        "                num_minhashes_per_band= 8,\n",
        "                jaccard_similarity_threshold = 0.8, # between 0 - 1.  higher means more strict checking\n",
        "                operation_mode=\"filter_duplicates\",\n",
        "                # operation_mode=\"annotate\",\n",
        "                ).transform()\n",
        "# if result == 0:\n",
        "#     print (f\"✅ Stage:{STAGE} completed successfully\")\n",
        "# else:\n",
        "#     raise Exception (f\"❌ Stage:{STAGE}  failed (result={result})\")"
      ]
    },
    {
      "cell_type": "markdown",
      "id": "b2c83592",
      "metadata": {
        "id": "b2c83592"
      },
      "source": [
        "### 7.2 - Inspect Output\n",
        "\n",
        "FuzzyDedupe will write documents that are filtered in **output/04_fuzzy_dedupe_out/cleaned** folder\n",
        "\n",
        "You will notice only one **earth.pdf** made it!  So fuzzy dedupe did filter out the almost identical doc."
      ]
    },
    {
      "cell_type": "code",
      "execution_count": null,
      "id": "573faba2",
      "metadata": {
        "colab": {
          "base_uri": "https://localhost:8080/",
          "height": 511
        },
        "id": "573faba2",
        "outputId": "49408c6e-a22b-404f-ccc5-c00edb7ce85a"
      },
      "outputs": [
        {
          "name": "stdout",
          "output_type": "stream",
          "text": [
            "Input files before exact dedupe : 5\n",
            "Output files after exact dedupe : 4\n",
            "Near duplicate files removed :   1\n",
            "Displaying contents of :  output/04_fuzzy_dedupe_out\n"
          ]
        },
        {
          "data": {
            "text/html": [
              "<div>\n",
              "<style scoped>\n",
              "    .dataframe tbody tr th:only-of-type {\n",
              "        vertical-align: middle;\n",
              "    }\n",
              "\n",
              "    .dataframe tbody tr th {\n",
              "        vertical-align: top;\n",
              "    }\n",
              "\n",
              "    .dataframe thead th {\n",
              "        text-align: right;\n",
              "    }\n",
              "</style>\n",
              "<table border=\"1\" class=\"dataframe\">\n",
              "  <thead>\n",
              "    <tr style=\"text-align: right;\">\n",
              "      <th></th>\n",
              "      <th>filename</th>\n",
              "      <th>contents</th>\n",
              "      <th>num_pages</th>\n",
              "      <th>num_tables</th>\n",
              "      <th>num_doc_elements</th>\n",
              "      <th>document_id</th>\n",
              "      <th>document_hash</th>\n",
              "      <th>ext</th>\n",
              "      <th>hash</th>\n",
              "      <th>size</th>\n",
              "      <th>date_acquired</th>\n",
              "      <th>pdf_convert_time</th>\n",
              "      <th>source_filename</th>\n",
              "      <th>doc_hash</th>\n",
              "      <th>int_id_column</th>\n",
              "      <th>removed</th>\n",
              "    </tr>\n",
              "  </thead>\n",
              "  <tbody>\n",
              "    <tr>\n",
              "      <th>0</th>\n",
              "      <td>lorem-ipsum.pdf</td>\n",
              "      <td>Lorem ipsum Lorem ipsum Lorem ipsum</td>\n",
              "      <td>1</td>\n",
              "      <td>0</td>\n",
              "      <td>2</td>\n",
              "      <td>a8502d17-692c-4c88-a2a4-19a19ba07892</td>\n",
              "      <td>6571294142213095721</td>\n",
              "      <td>pdf</td>\n",
              "      <td>bc012d063005cc02deb6c2592d1f8c3b273625edf9eec5...</td>\n",
              "      <td>35</td>\n",
              "      <td>2025-01-22T22:16:14.071453</td>\n",
              "      <td>0.706817</td>\n",
              "      <td>lorem-ipsum.pdf</td>\n",
              "      <td>bc012d063005cc02deb6c2592d1f8c3b273625edf9eec5...</td>\n",
              "      <td>3</td>\n",
              "      <td>[]</td>\n",
              "    </tr>\n",
              "    <tr>\n",
              "      <th>1</th>\n",
              "      <td>spam.pdf</td>\n",
              "      <td>Free xxx</td>\n",
              "      <td>1</td>\n",
              "      <td>0</td>\n",
              "      <td>2</td>\n",
              "      <td>08f28dfa-e607-4c47-b9d6-66b7b8c193b7</td>\n",
              "      <td>10026122586747302274</td>\n",
              "      <td>pdf</td>\n",
              "      <td>543ffc97aef373ee009a5f908e0358ef80d329ca7ba964...</td>\n",
              "      <td>8</td>\n",
              "      <td>2025-01-22T22:16:15.372196</td>\n",
              "      <td>0.631735</td>\n",
              "      <td>spam.pdf</td>\n",
              "      <td>543ffc97aef373ee009a5f908e0358ef80d329ca7ba964...</td>\n",
              "      <td>5</td>\n",
              "      <td>[]</td>\n",
              "    </tr>\n",
              "    <tr>\n",
              "      <th>2</th>\n",
              "      <td>mars.pdf</td>\n",
              "      <td>## Mars\\n\\n## Solar System\\n\\nOur solar system...</td>\n",
              "      <td>1</td>\n",
              "      <td>0</td>\n",
              "      <td>11</td>\n",
              "      <td>3685b6ed-bd33-49f3-95a5-806d28e8311b</td>\n",
              "      <td>7758129997476962679</td>\n",
              "      <td>pdf</td>\n",
              "      <td>a3a4bb3b8f4f441d6d669e09f0cd07a9420d06850cf63e...</td>\n",
              "      <td>717</td>\n",
              "      <td>2025-01-22T22:16:14.738818</td>\n",
              "      <td>0.665504</td>\n",
              "      <td>mars.pdf</td>\n",
              "      <td>a3a4bb3b8f4f441d6d669e09f0cd07a9420d06850cf63e...</td>\n",
              "      <td>4</td>\n",
              "      <td>[]</td>\n",
              "    </tr>\n",
              "    <tr>\n",
              "      <th>3</th>\n",
              "      <td>earth-copy.pdf</td>\n",
              "      <td>## Earth\\n\\n## Solar System\\n\\nOur solar syste...</td>\n",
              "      <td>1</td>\n",
              "      <td>0</td>\n",
              "      <td>11</td>\n",
              "      <td>5a070315-684b-481f-9c9f-76903a720d44</td>\n",
              "      <td>14711865278795535908</td>\n",
              "      <td>pdf</td>\n",
              "      <td>6140cf695f269a3ddca6568536076756105ad3186086b2...</td>\n",
              "      <td>610</td>\n",
              "      <td>2025-01-22T22:16:11.723987</td>\n",
              "      <td>1.010865</td>\n",
              "      <td>earth-copy.pdf</td>\n",
              "      <td>6140cf695f269a3ddca6568536076756105ad3186086b2...</td>\n",
              "      <td>0</td>\n",
              "      <td>[]</td>\n",
              "    </tr>\n",
              "  </tbody>\n",
              "</table>\n",
              "</div>"
            ],
            "text/plain": [
              "          filename                                           contents  \\\n",
              "0  lorem-ipsum.pdf                Lorem ipsum Lorem ipsum Lorem ipsum   \n",
              "1         spam.pdf                                           Free xxx   \n",
              "2         mars.pdf  ## Mars\\n\\n## Solar System\\n\\nOur solar system...   \n",
              "3   earth-copy.pdf  ## Earth\\n\\n## Solar System\\n\\nOur solar syste...   \n",
              "\n",
              "   num_pages  num_tables  num_doc_elements  \\\n",
              "0          1           0                 2   \n",
              "1          1           0                 2   \n",
              "2          1           0                11   \n",
              "3          1           0                11   \n",
              "\n",
              "                            document_id         document_hash  ext  \\\n",
              "0  a8502d17-692c-4c88-a2a4-19a19ba07892   6571294142213095721  pdf   \n",
              "1  08f28dfa-e607-4c47-b9d6-66b7b8c193b7  10026122586747302274  pdf   \n",
              "2  3685b6ed-bd33-49f3-95a5-806d28e8311b   7758129997476962679  pdf   \n",
              "3  5a070315-684b-481f-9c9f-76903a720d44  14711865278795535908  pdf   \n",
              "\n",
              "                                                hash  size  \\\n",
              "0  bc012d063005cc02deb6c2592d1f8c3b273625edf9eec5...    35   \n",
              "1  543ffc97aef373ee009a5f908e0358ef80d329ca7ba964...     8   \n",
              "2  a3a4bb3b8f4f441d6d669e09f0cd07a9420d06850cf63e...   717   \n",
              "3  6140cf695f269a3ddca6568536076756105ad3186086b2...   610   \n",
              "\n",
              "                date_acquired  pdf_convert_time  source_filename  \\\n",
              "0  2025-01-22T22:16:14.071453          0.706817  lorem-ipsum.pdf   \n",
              "1  2025-01-22T22:16:15.372196          0.631735         spam.pdf   \n",
              "2  2025-01-22T22:16:14.738818          0.665504         mars.pdf   \n",
              "3  2025-01-22T22:16:11.723987          1.010865   earth-copy.pdf   \n",
              "\n",
              "                                            doc_hash  int_id_column removed  \n",
              "0  bc012d063005cc02deb6c2592d1f8c3b273625edf9eec5...              3      []  \n",
              "1  543ffc97aef373ee009a5f908e0358ef80d329ca7ba964...              5      []  \n",
              "2  a3a4bb3b8f4f441d6d669e09f0cd07a9420d06850cf63e...              4      []  \n",
              "3  6140cf695f269a3ddca6568536076756105ad3186086b2...              0      []  "
            ]
          },
          "execution_count": 16,
          "metadata": {},
          "output_type": "execute_result"
        }
      ],
      "source": [
        "input_df = read_parquet_files_as_df(output_exact_dedupe_dir)\n",
        "output_df = read_parquet_files_as_df(os.path.join(output_fuzzy_dedupe_dir, \"cleaned\"))\n",
        "\n",
        "# print (\"Input data dimensions (rows x columns)= \", input_df.shape)\n",
        "# print (\"Output data dimensions (rows x columns)= \", output_df.shape)\n",
        "print (f\"Input files before exact dedupe : {input_df.shape[0]:,}\")\n",
        "print (f\"Output files after exact dedupe : {output_df.shape[0]:,}\")\n",
        "print (\"Near duplicate files removed :  \", (input_df.shape[0] - output_df.shape[0]))\n",
        "\n",
        "print (\"Displaying contents of : \", output_fuzzy_dedupe_dir)\n",
        "output_df.head()"
      ]
    },
    {
      "cell_type": "markdown",
      "id": "3e0598a0",
      "metadata": {
        "id": "3e0598a0"
      },
      "source": [
        "## Step-8: Document Quality\n",
        "\n",
        "This handy plugin will score documents across many metrics.\n",
        "\n",
        "Here we will look for 'bad words' metric.\n",
        "\n",
        "[Document quality documentation](https://github.com/IBM/data-prep-kit/tree/dev/transforms/language/doc_quality)\n",
        "\n",
        "By default it uses [bad words collection](https://github.com/IBM/data-prep-kit/tree/dev/transforms/language/doc_quality/dpk_doc_quality/ldnoobw).  You can supply a custom file by passing an argument `bad_word_filepath=/path/to/badwords_file`"
      ]
    },
    {
      "cell_type": "markdown",
      "id": "1949c2c4",
      "metadata": {
        "id": "1949c2c4"
      },
      "source": [
        "### 8.1 - Execute"
      ]
    },
    {
      "cell_type": "code",
      "execution_count": null,
      "id": "b485f598",
      "metadata": {
        "colab": {
          "base_uri": "https://localhost:8080/"
        },
        "id": "b485f598",
        "outputId": "448a8ee1-9371-4bd4-f5ad-a596893fe65f"
      },
      "outputs": [
        {
          "name": "stdout",
          "output_type": "stream",
          "text": [
            "🏃🏼 STAGE-5: Processing input='output/04_fuzzy_dedupe_out/cleaned' --> output='output/05_doc_quality_out'\n",
            "\n"
          ]
        },
        {
          "name": "stderr",
          "output_type": "stream",
          "text": [
            "22:16:15 INFO - doc_quality parameters are : {'text_lang': 'en', 'doc_content_column': 'contents', 'bad_word_filepath': '/home/sujee/apps/anaconda3/envs/dpk-3-pdf-processing-r1.0.0-py3.11/lib/python3.11/site-packages/dpk_doc_quality/ldnoobw/en', 's3_cred': None, 'docq_data_factory': <data_processing.data_access.data_access_factory.DataAccessFactory object at 0x7a0273510050>}\n",
            "22:16:15 INFO - data factory docq_ is using local configuration without input/output path\n",
            "22:16:15 INFO - data factory docq_ max_files -1, n_sample -1\n",
            "22:16:15 INFO - data factory docq_ Not using data sets, checkpointing False, max files -1, random samples -1, files to use ['.parquet'], files to checkpoint ['.parquet']\n",
            "22:16:15 INFO - pipeline id pipeline_id\n",
            "22:16:15 INFO - code location None\n",
            "22:16:15 INFO - data factory data_ is using local data access: input_folder - output/04_fuzzy_dedupe_out/cleaned output_folder - output/05_doc_quality_out\n",
            "22:16:15 INFO - data factory data_ max_files -1, n_sample -1\n",
            "22:16:15 INFO - data factory data_ Not using data sets, checkpointing False, max files -1, random samples -1, files to use ['.parquet'], files to checkpoint ['.parquet']\n",
            "22:16:15 INFO - orchestrator docq started at 2025-01-22 22:16:15\n",
            "22:16:15 INFO - Number of files is 5, source profile {'max_file_size': 0.011510848999023438, 'min_file_size': 0.0035142898559570312, 'total_file_size': 0.040172576904296875}\n",
            "22:16:15 INFO - Load badwords found locally from /home/sujee/apps/anaconda3/envs/dpk-3-pdf-processing-r1.0.0-py3.11/lib/python3.11/site-packages/dpk_doc_quality/ldnoobw/en\n",
            "22:16:15 INFO - Completed 1 files (20.0%) in 0.0 min\n",
            "22:16:15 WARNING - table is empty, skipping processing\n",
            "22:16:15 INFO - Completed 2 files (40.0%) in 0.0 min\n",
            "22:16:15 INFO - Completed 3 files (60.0%) in 0.0 min\n",
            "22:16:15 INFO - Completed 4 files (80.0%) in 0.0 min\n",
            "22:16:15 INFO - Completed 5 files (100.0%) in 0.0 min\n",
            "22:16:15 INFO - Done processing 5 files, waiting for flush() completion.\n",
            "22:16:15 INFO - done flushing in 0.0 sec\n",
            "22:16:15 INFO - Completed execution in 0.0 min, execution result 0\n"
          ]
        },
        {
          "name": "stdout",
          "output_type": "stream",
          "text": [
            "✅ Stage:5 completed successfully\n",
            "CPU times: user 36.1 ms, sys: 2.93 ms, total: 39 ms\n",
            "Wall time: 33.4 ms\n"
          ]
        }
      ],
      "source": [
        "%%time\n",
        "\n",
        "from dpk_doc_quality.transform_python import DocQuality\n",
        "\n",
        "STAGE = 5\n",
        "output_fuzzy_dedupe_cleaned_dir = os.path.join(output_fuzzy_dedupe_dir, \"cleaned\")\n",
        "print (f\"🏃🏼 STAGE-{STAGE}: Processing input='{output_fuzzy_dedupe_cleaned_dir}' --> output='{output_doc_quality_dir}'\\n\", flush=True)\n",
        "\n",
        "result = DocQuality(input_folder=output_fuzzy_dedupe_cleaned_dir,\n",
        "                    output_folder= output_doc_quality_dir,\n",
        "                    docq_text_lang = \"en\",\n",
        "                    docq_doc_content_column =\"contents\",\n",
        "                    ).transform()\n",
        "\n",
        "if result == 0:\n",
        "    print (f\"✅ Stage:{STAGE} completed successfully\")\n",
        "else:\n",
        "    raise Exception (f\"❌ Stage:{STAGE}  failed (result={result})\")"
      ]
    },
    {
      "cell_type": "markdown",
      "id": "eccefd3e",
      "metadata": {
        "id": "eccefd3e"
      },
      "source": [
        "### 8.2 - Inspect the Output\n",
        "\n",
        "We will see several new columns starting with the name **docq_**.\n",
        "\n",
        "We will look at a metric **docq_contain_bad_word** and filter out any documents that have bad words.\n",
        "\n",
        "For more information see : [Doc Quality documentation](https://github.com/IBM/data-prep-kit/tree/dev/transforms/language/doc_quality)"
      ]
    },
    {
      "cell_type": "code",
      "execution_count": null,
      "id": "1f3225f8",
      "metadata": {
        "colab": {
          "base_uri": "https://localhost:8080/",
          "height": 485
        },
        "id": "1f3225f8",
        "outputId": "a6009dc0-6ca6-411a-8066-090c610860e0"
      },
      "outputs": [
        {
          "name": "stdout",
          "output_type": "stream",
          "text": [
            "Displaying contents of :  output/05_doc_quality_out\n"
          ]
        },
        {
          "data": {
            "text/html": [
              "<div>\n",
              "<style scoped>\n",
              "    .dataframe tbody tr th:only-of-type {\n",
              "        vertical-align: middle;\n",
              "    }\n",
              "\n",
              "    .dataframe tbody tr th {\n",
              "        vertical-align: top;\n",
              "    }\n",
              "\n",
              "    .dataframe thead th {\n",
              "        text-align: right;\n",
              "    }\n",
              "</style>\n",
              "<table border=\"1\" class=\"dataframe\">\n",
              "  <thead>\n",
              "    <tr style=\"text-align: right;\">\n",
              "      <th></th>\n",
              "      <th>filename</th>\n",
              "      <th>contents</th>\n",
              "      <th>num_pages</th>\n",
              "      <th>num_tables</th>\n",
              "      <th>num_doc_elements</th>\n",
              "      <th>document_id</th>\n",
              "      <th>document_hash</th>\n",
              "      <th>ext</th>\n",
              "      <th>hash</th>\n",
              "      <th>size</th>\n",
              "      <th>...</th>\n",
              "      <th>docq_mean_word_len</th>\n",
              "      <th>docq_symbol_to_word_ratio</th>\n",
              "      <th>docq_sentence_count</th>\n",
              "      <th>docq_lorem_ipsum_ratio</th>\n",
              "      <th>docq_curly_bracket_ratio</th>\n",
              "      <th>docq_contain_bad_word</th>\n",
              "      <th>docq_bullet_point_ratio</th>\n",
              "      <th>docq_ellipsis_line_ratio</th>\n",
              "      <th>docq_alphabet_word_ratio</th>\n",
              "      <th>docq_contain_common_en_words</th>\n",
              "    </tr>\n",
              "  </thead>\n",
              "  <tbody>\n",
              "    <tr>\n",
              "      <th>0</th>\n",
              "      <td>lorem-ipsum.pdf</td>\n",
              "      <td>Lorem ipsum Lorem ipsum Lorem ipsum</td>\n",
              "      <td>1</td>\n",
              "      <td>0</td>\n",
              "      <td>2</td>\n",
              "      <td>a8502d17-692c-4c88-a2a4-19a19ba07892</td>\n",
              "      <td>6571294142213095721</td>\n",
              "      <td>pdf</td>\n",
              "      <td>bc012d063005cc02deb6c2592d1f8c3b273625edf9eec5...</td>\n",
              "      <td>35</td>\n",
              "      <td>...</td>\n",
              "      <td>5.000000</td>\n",
              "      <td>0.000000</td>\n",
              "      <td>1</td>\n",
              "      <td>0.085714</td>\n",
              "      <td>0.0</td>\n",
              "      <td>False</td>\n",
              "      <td>0.000000</td>\n",
              "      <td>0.0</td>\n",
              "      <td>1.000000</td>\n",
              "      <td>False</td>\n",
              "    </tr>\n",
              "    <tr>\n",
              "      <th>1</th>\n",
              "      <td>spam.pdf</td>\n",
              "      <td>Free xxx</td>\n",
              "      <td>1</td>\n",
              "      <td>0</td>\n",
              "      <td>2</td>\n",
              "      <td>08f28dfa-e607-4c47-b9d6-66b7b8c193b7</td>\n",
              "      <td>10026122586747302274</td>\n",
              "      <td>pdf</td>\n",
              "      <td>543ffc97aef373ee009a5f908e0358ef80d329ca7ba964...</td>\n",
              "      <td>8</td>\n",
              "      <td>...</td>\n",
              "      <td>3.500000</td>\n",
              "      <td>0.000000</td>\n",
              "      <td>1</td>\n",
              "      <td>0.000000</td>\n",
              "      <td>0.0</td>\n",
              "      <td>True</td>\n",
              "      <td>0.000000</td>\n",
              "      <td>0.0</td>\n",
              "      <td>1.000000</td>\n",
              "      <td>False</td>\n",
              "    </tr>\n",
              "    <tr>\n",
              "      <th>2</th>\n",
              "      <td>mars.pdf</td>\n",
              "      <td>## Mars\\n\\n## Solar System\\n\\nOur solar system...</td>\n",
              "      <td>1</td>\n",
              "      <td>0</td>\n",
              "      <td>11</td>\n",
              "      <td>3685b6ed-bd33-49f3-95a5-806d28e8311b</td>\n",
              "      <td>7758129997476962679</td>\n",
              "      <td>pdf</td>\n",
              "      <td>a3a4bb3b8f4f441d6d669e09f0cd07a9420d06850cf63e...</td>\n",
              "      <td>717</td>\n",
              "      <td>...</td>\n",
              "      <td>4.688000</td>\n",
              "      <td>0.032000</td>\n",
              "      <td>8</td>\n",
              "      <td>0.000000</td>\n",
              "      <td>0.0</td>\n",
              "      <td>False</td>\n",
              "      <td>0.176471</td>\n",
              "      <td>0.0</td>\n",
              "      <td>0.880000</td>\n",
              "      <td>True</td>\n",
              "    </tr>\n",
              "    <tr>\n",
              "      <th>3</th>\n",
              "      <td>earth-copy.pdf</td>\n",
              "      <td>## Earth\\n\\n## Solar System\\n\\nOur solar syste...</td>\n",
              "      <td>1</td>\n",
              "      <td>0</td>\n",
              "      <td>11</td>\n",
              "      <td>5a070315-684b-481f-9c9f-76903a720d44</td>\n",
              "      <td>14711865278795535908</td>\n",
              "      <td>pdf</td>\n",
              "      <td>6140cf695f269a3ddca6568536076756105ad3186086b2...</td>\n",
              "      <td>610</td>\n",
              "      <td>...</td>\n",
              "      <td>4.541284</td>\n",
              "      <td>0.027523</td>\n",
              "      <td>9</td>\n",
              "      <td>0.000000</td>\n",
              "      <td>0.0</td>\n",
              "      <td>False</td>\n",
              "      <td>0.176471</td>\n",
              "      <td>0.0</td>\n",
              "      <td>0.880734</td>\n",
              "      <td>True</td>\n",
              "    </tr>\n",
              "  </tbody>\n",
              "</table>\n",
              "<p>4 rows × 27 columns</p>\n",
              "</div>"
            ],
            "text/plain": [
              "          filename                                           contents  \\\n",
              "0  lorem-ipsum.pdf                Lorem ipsum Lorem ipsum Lorem ipsum   \n",
              "1         spam.pdf                                           Free xxx   \n",
              "2         mars.pdf  ## Mars\\n\\n## Solar System\\n\\nOur solar system...   \n",
              "3   earth-copy.pdf  ## Earth\\n\\n## Solar System\\n\\nOur solar syste...   \n",
              "\n",
              "   num_pages  num_tables  num_doc_elements  \\\n",
              "0          1           0                 2   \n",
              "1          1           0                 2   \n",
              "2          1           0                11   \n",
              "3          1           0                11   \n",
              "\n",
              "                            document_id         document_hash  ext  \\\n",
              "0  a8502d17-692c-4c88-a2a4-19a19ba07892   6571294142213095721  pdf   \n",
              "1  08f28dfa-e607-4c47-b9d6-66b7b8c193b7  10026122586747302274  pdf   \n",
              "2  3685b6ed-bd33-49f3-95a5-806d28e8311b   7758129997476962679  pdf   \n",
              "3  5a070315-684b-481f-9c9f-76903a720d44  14711865278795535908  pdf   \n",
              "\n",
              "                                                hash  size  ...  \\\n",
              "0  bc012d063005cc02deb6c2592d1f8c3b273625edf9eec5...    35  ...   \n",
              "1  543ffc97aef373ee009a5f908e0358ef80d329ca7ba964...     8  ...   \n",
              "2  a3a4bb3b8f4f441d6d669e09f0cd07a9420d06850cf63e...   717  ...   \n",
              "3  6140cf695f269a3ddca6568536076756105ad3186086b2...   610  ...   \n",
              "\n",
              "  docq_mean_word_len  docq_symbol_to_word_ratio docq_sentence_count  \\\n",
              "0           5.000000                   0.000000                   1   \n",
              "1           3.500000                   0.000000                   1   \n",
              "2           4.688000                   0.032000                   8   \n",
              "3           4.541284                   0.027523                   9   \n",
              "\n",
              "  docq_lorem_ipsum_ratio  docq_curly_bracket_ratio docq_contain_bad_word  \\\n",
              "0               0.085714                       0.0                 False   \n",
              "1               0.000000                       0.0                  True   \n",
              "2               0.000000                       0.0                 False   \n",
              "3               0.000000                       0.0                 False   \n",
              "\n",
              "   docq_bullet_point_ratio  docq_ellipsis_line_ratio  \\\n",
              "0                 0.000000                       0.0   \n",
              "1                 0.000000                       0.0   \n",
              "2                 0.176471                       0.0   \n",
              "3                 0.176471                       0.0   \n",
              "\n",
              "   docq_alphabet_word_ratio  docq_contain_common_en_words  \n",
              "0                  1.000000                         False  \n",
              "1                  1.000000                         False  \n",
              "2                  0.880000                          True  \n",
              "3                  0.880734                          True  \n",
              "\n",
              "[4 rows x 27 columns]"
            ]
          },
          "execution_count": 18,
          "metadata": {},
          "output_type": "execute_result"
        }
      ],
      "source": [
        "output_df = read_parquet_files_as_df(output_doc_quality_dir)\n",
        "print (\"Displaying contents of : \", output_doc_quality_dir)\n",
        "output_df.head()"
      ]
    },
    {
      "cell_type": "markdown",
      "id": "02fa3bd2",
      "metadata": {
        "id": "02fa3bd2"
      },
      "source": [
        "### 8.3 - Filtering 'quality' documents\n",
        "\n",
        "So from the output above we see **spam.pdf** is flagged for containing bad words (**docq_contain_bad_word=True**).\n",
        "\n",
        "Also **lorem.pdf** is flagged for place holder content **lorem ipsum**  (**docq_lorem_ipsum_ratio > 0**)\n",
        "\n",
        "We are going to filter them both out"
      ]
    },
    {
      "cell_type": "code",
      "execution_count": null,
      "id": "5dac1c70",
      "metadata": {
        "colab": {
          "base_uri": "https://localhost:8080/",
          "height": 300
        },
        "id": "5dac1c70",
        "outputId": "463e897f-1099-410a-f753-34c4846228c3"
      },
      "outputs": [
        {
          "data": {
            "text/html": [
              "<div>\n",
              "<style scoped>\n",
              "    .dataframe tbody tr th:only-of-type {\n",
              "        vertical-align: middle;\n",
              "    }\n",
              "\n",
              "    .dataframe tbody tr th {\n",
              "        vertical-align: top;\n",
              "    }\n",
              "\n",
              "    .dataframe thead th {\n",
              "        text-align: right;\n",
              "    }\n",
              "</style>\n",
              "<table border=\"1\" class=\"dataframe\">\n",
              "  <thead>\n",
              "    <tr style=\"text-align: right;\">\n",
              "      <th></th>\n",
              "      <th>filename</th>\n",
              "      <th>contents</th>\n",
              "      <th>num_pages</th>\n",
              "      <th>num_tables</th>\n",
              "      <th>num_doc_elements</th>\n",
              "      <th>document_id</th>\n",
              "      <th>document_hash</th>\n",
              "      <th>ext</th>\n",
              "      <th>hash</th>\n",
              "      <th>size</th>\n",
              "      <th>...</th>\n",
              "      <th>docq_mean_word_len</th>\n",
              "      <th>docq_symbol_to_word_ratio</th>\n",
              "      <th>docq_sentence_count</th>\n",
              "      <th>docq_lorem_ipsum_ratio</th>\n",
              "      <th>docq_curly_bracket_ratio</th>\n",
              "      <th>docq_contain_bad_word</th>\n",
              "      <th>docq_bullet_point_ratio</th>\n",
              "      <th>docq_ellipsis_line_ratio</th>\n",
              "      <th>docq_alphabet_word_ratio</th>\n",
              "      <th>docq_contain_common_en_words</th>\n",
              "    </tr>\n",
              "  </thead>\n",
              "  <tbody>\n",
              "    <tr>\n",
              "      <th>2</th>\n",
              "      <td>mars.pdf</td>\n",
              "      <td>## Mars\\n\\n## Solar System\\n\\nOur solar system...</td>\n",
              "      <td>1</td>\n",
              "      <td>0</td>\n",
              "      <td>11</td>\n",
              "      <td>3685b6ed-bd33-49f3-95a5-806d28e8311b</td>\n",
              "      <td>7758129997476962679</td>\n",
              "      <td>pdf</td>\n",
              "      <td>a3a4bb3b8f4f441d6d669e09f0cd07a9420d06850cf63e...</td>\n",
              "      <td>717</td>\n",
              "      <td>...</td>\n",
              "      <td>4.688000</td>\n",
              "      <td>0.032000</td>\n",
              "      <td>8</td>\n",
              "      <td>0.0</td>\n",
              "      <td>0.0</td>\n",
              "      <td>False</td>\n",
              "      <td>0.176471</td>\n",
              "      <td>0.0</td>\n",
              "      <td>0.880000</td>\n",
              "      <td>True</td>\n",
              "    </tr>\n",
              "    <tr>\n",
              "      <th>3</th>\n",
              "      <td>earth-copy.pdf</td>\n",
              "      <td>## Earth\\n\\n## Solar System\\n\\nOur solar syste...</td>\n",
              "      <td>1</td>\n",
              "      <td>0</td>\n",
              "      <td>11</td>\n",
              "      <td>5a070315-684b-481f-9c9f-76903a720d44</td>\n",
              "      <td>14711865278795535908</td>\n",
              "      <td>pdf</td>\n",
              "      <td>6140cf695f269a3ddca6568536076756105ad3186086b2...</td>\n",
              "      <td>610</td>\n",
              "      <td>...</td>\n",
              "      <td>4.541284</td>\n",
              "      <td>0.027523</td>\n",
              "      <td>9</td>\n",
              "      <td>0.0</td>\n",
              "      <td>0.0</td>\n",
              "      <td>False</td>\n",
              "      <td>0.176471</td>\n",
              "      <td>0.0</td>\n",
              "      <td>0.880734</td>\n",
              "      <td>True</td>\n",
              "    </tr>\n",
              "  </tbody>\n",
              "</table>\n",
              "<p>2 rows × 27 columns</p>\n",
              "</div>"
            ],
            "text/plain": [
              "         filename                                           contents  \\\n",
              "2        mars.pdf  ## Mars\\n\\n## Solar System\\n\\nOur solar system...   \n",
              "3  earth-copy.pdf  ## Earth\\n\\n## Solar System\\n\\nOur solar syste...   \n",
              "\n",
              "   num_pages  num_tables  num_doc_elements  \\\n",
              "2          1           0                11   \n",
              "3          1           0                11   \n",
              "\n",
              "                            document_id         document_hash  ext  \\\n",
              "2  3685b6ed-bd33-49f3-95a5-806d28e8311b   7758129997476962679  pdf   \n",
              "3  5a070315-684b-481f-9c9f-76903a720d44  14711865278795535908  pdf   \n",
              "\n",
              "                                                hash  size  ...  \\\n",
              "2  a3a4bb3b8f4f441d6d669e09f0cd07a9420d06850cf63e...   717  ...   \n",
              "3  6140cf695f269a3ddca6568536076756105ad3186086b2...   610  ...   \n",
              "\n",
              "  docq_mean_word_len  docq_symbol_to_word_ratio docq_sentence_count  \\\n",
              "2           4.688000                   0.032000                   8   \n",
              "3           4.541284                   0.027523                   9   \n",
              "\n",
              "  docq_lorem_ipsum_ratio  docq_curly_bracket_ratio docq_contain_bad_word  \\\n",
              "2                    0.0                       0.0                 False   \n",
              "3                    0.0                       0.0                 False   \n",
              "\n",
              "   docq_bullet_point_ratio  docq_ellipsis_line_ratio  \\\n",
              "2                 0.176471                       0.0   \n",
              "3                 0.176471                       0.0   \n",
              "\n",
              "   docq_alphabet_word_ratio  docq_contain_common_en_words  \n",
              "2                  0.880000                          True  \n",
              "3                  0.880734                          True  \n",
              "\n",
              "[2 rows x 27 columns]"
            ]
          },
          "execution_count": 19,
          "metadata": {},
          "output_type": "execute_result"
        }
      ],
      "source": [
        "all_docs_df = read_parquet_files_as_df(output_doc_quality_dir)\n",
        "\n",
        "# remove documents with badwords\n",
        "clean_docs_df = all_docs_df[all_docs_df['docq_contain_bad_word'] == False]\n",
        "\n",
        "# also filter out 'lorem ipsum' text\n",
        "clean_docs_df = clean_docs_df[clean_docs_df['docq_lorem_ipsum_ratio'] == 0]\n",
        "\n",
        "clean_docs_df.head()"
      ]
    },
    {
      "cell_type": "markdown",
      "id": "f5e12630-be6b-4188-a925-77117155617b",
      "metadata": {
        "id": "f5e12630-be6b-4188-a925-77117155617b"
      },
      "source": [
        "## Step-9: Copy output to final output dir"
      ]
    },
    {
      "cell_type": "code",
      "execution_count": null,
      "id": "16dee3b8-31dc-4168-8adb-f2a0a0b5e207",
      "metadata": {
        "id": "16dee3b8-31dc-4168-8adb-f2a0a0b5e207"
      },
      "outputs": [],
      "source": [
        "import shutil\n",
        "\n",
        "shutil.rmtree(output_final_dir, ignore_errors=True)\n",
        "shutil.os.makedirs(output_final_dir, exist_ok=True)\n",
        "\n",
        "output_final_dir_parquet = os.path.join (output_final_dir, 'pq')\n",
        "shutil.os.makedirs(output_final_dir_parquet, exist_ok=True)\n",
        "\n",
        "output_final_dir_markdown = os.path.join (output_final_dir, 'markdown')\n",
        "shutil.os.makedirs(output_final_dir_markdown, exist_ok=True)"
      ]
    },
    {
      "cell_type": "code",
      "execution_count": null,
      "id": "e06ce4f2",
      "metadata": {
        "colab": {
          "base_uri": "https://localhost:8080/"
        },
        "id": "e06ce4f2",
        "outputId": "8a26e407-2cc8-44ee-ba6b-ca6485a92926"
      },
      "outputs": [
        {
          "name": "stdout",
          "output_type": "stream",
          "text": [
            "✅ Saved CLEAN parquet output to 'output/output_final/pq'\n"
          ]
        }
      ],
      "source": [
        "## save parquet\n",
        "\n",
        "clean_docs_df.to_parquet(os.path.join(output_final_dir_parquet, \"clean_docs.parquet\"))\n",
        "print (f\"✅ Saved CLEAN parquet output to '{output_final_dir_parquet}'\")"
      ]
    },
    {
      "cell_type": "code",
      "execution_count": null,
      "id": "1e175302",
      "metadata": {
        "colab": {
          "base_uri": "https://localhost:8080/"
        },
        "id": "1e175302",
        "outputId": "d54c5d80-23ce-49a6-e098-8e712d048975"
      },
      "outputs": [
        {
          "name": "stdout",
          "output_type": "stream",
          "text": [
            "✅ Saved CLEAN markdown output to 'output/output_final/markdown'\n"
          ]
        }
      ],
      "source": [
        "## save markdown text\n",
        "\n",
        "for index, row in clean_docs_df.iterrows():\n",
        "    output_file_name = os.path.join (output_final_dir_markdown, row['filename'] + '.md')\n",
        "    with open(output_file_name, 'w') as output_file:\n",
        "        output_file.write(row['contents'])\n",
        "\n",
        "print (f\"✅ Saved CLEAN markdown output to '{output_final_dir_markdown}'\")\n"
      ]
    }
  ],
  "metadata": {
    "colab": {
      "provenance": []
    },
    "kernelspec": {
      "display_name": "dpk-3-pdf-processing-r1.0.0-py3.11",
      "language": "python",
      "name": "python3"
    },
    "language_info": {
      "codemirror_mode": {
        "name": "ipython",
        "version": 3
      },
      "file_extension": ".py",
      "mimetype": "text/x-python",
      "name": "python",
      "nbconvert_exporter": "python",
      "pygments_lexer": "ipython3",
      "version": "3.11.11"
    }
  },
  "nbformat": 4,
  "nbformat_minor": 5
}